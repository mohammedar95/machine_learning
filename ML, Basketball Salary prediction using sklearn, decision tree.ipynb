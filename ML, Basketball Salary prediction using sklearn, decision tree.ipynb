{
 "cells": [
  {
   "cell_type": "markdown",
   "metadata": {},
   "source": [
    "# Machine Learning"
   ]
  },
  {
   "cell_type": "markdown",
   "metadata": {
    "id": "-SLb9c1-LQ6e"
   },
   "source": [
    "## Prediction of BasketBall Players' Salary using Decision Trees and PCA"
   ]
  },
  {
   "cell_type": "markdown",
   "metadata": {
    "id": "nnEiT7NGLQ6e"
   },
   "source": [
    "ML Model Performance Comparision using:\n",
    "- KNN\n",
    "- Decision Tree Classifiers\n",
    "- Decision Tree Regressor\n",
    "- Ridge\n",
    "- RidgeCV\n",
    "- Bagging Regressor\n",
    "- Random Forest\n",
    "- Gradient Boosting Regressor\n",
    "- Grid Search CV"
   ]
  },
  {
   "cell_type": "markdown",
   "metadata": {
    "id": "v04yQYA4LQ6e"
   },
   "source": [
    "Let's look at NBA player salaries (with some stats) between 1985 and 2018."
   ]
  },
  {
   "cell_type": "markdown",
   "metadata": {},
   "source": [
    "# Importing ML Libraries"
   ]
  },
  {
   "cell_type": "code",
   "execution_count": 1,
   "metadata": {},
   "outputs": [],
   "source": [
    "import pandas as pd\n",
    "import numpy as np\n",
    "import matplotlib.pyplot as plt\n",
    "import seaborn as sns"
   ]
  },
  {
   "cell_type": "code",
   "execution_count": 2,
   "metadata": {},
   "outputs": [],
   "source": [
    "from sklearn.preprocessing import StandardScaler\n",
    "from sklearn.datasets import make_blobs\n",
    "from matplotlib.colors import ListedColormap\n",
    "from sklearn.model_selection import cross_validate\n",
    "from sklearn.model_selection import train_test_split\n",
    "from sklearn.metrics import mean_squared_error\n",
    "from sklearn import datasets\n",
    "from sklearn.metrics import accuracy_score\n",
    "from sklearn.neighbors import KNeighborsClassifier\n",
    "scaler=StandardScaler()"
   ]
  },
  {
   "cell_type": "code",
   "execution_count": 5,
   "metadata": {
    "id": "7frknSMCLQ6e"
   },
   "outputs": [],
   "source": [
    "pl=pd.read_csv('/Users/mo/Desktop/Desktop/Work/Github/Data_Science/Data/players.csv')\n",
    "sal=pd.read_csv('/Users/mo/Desktop/Desktop/Work/Github/Data_Science/Data/salaries_1985to2018.csv')"
   ]
  },
  {
   "cell_type": "code",
   "execution_count": 6,
   "metadata": {
    "id": "1XEpJnXkLQ6e",
    "outputId": "c0338a1b-7220-486f-ef8c-d8c0c1913697"
   },
   "outputs": [
    {
     "data": {
      "text/plain": [
       "Index(['_id', 'birthDate', 'birthPlace', 'career_AST', 'career_FG%',\n",
       "       'career_FG3%', 'career_FT%', 'career_G', 'career_PER', 'career_PTS',\n",
       "       'career_TRB', 'career_WS', 'career_eFG%', 'college', 'draft_pick',\n",
       "       'draft_round', 'draft_team', 'draft_year', 'height', 'highSchool',\n",
       "       'name', 'position', 'shoots', 'weight'],\n",
       "      dtype='object')"
      ]
     },
     "execution_count": 6,
     "metadata": {},
     "output_type": "execute_result"
    }
   ],
   "source": [
    "pl.columns"
   ]
  },
  {
   "cell_type": "code",
   "execution_count": 7,
   "metadata": {
    "id": "XMKFjHEOLQ6f",
    "outputId": "4e8bfc0a-afdd-4180-b67f-8b823073bb6f"
   },
   "outputs": [
    {
     "data": {
      "text/html": [
       "<div>\n",
       "<style scoped>\n",
       "    .dataframe tbody tr th:only-of-type {\n",
       "        vertical-align: middle;\n",
       "    }\n",
       "\n",
       "    .dataframe tbody tr th {\n",
       "        vertical-align: top;\n",
       "    }\n",
       "\n",
       "    .dataframe thead th {\n",
       "        text-align: right;\n",
       "    }\n",
       "</style>\n",
       "<table border=\"1\" class=\"dataframe\">\n",
       "  <thead>\n",
       "    <tr style=\"text-align: right;\">\n",
       "      <th></th>\n",
       "      <th>_id</th>\n",
       "      <th>birthDate</th>\n",
       "      <th>birthPlace</th>\n",
       "      <th>career_AST</th>\n",
       "      <th>career_FG%</th>\n",
       "      <th>career_FG3%</th>\n",
       "      <th>career_FT%</th>\n",
       "      <th>career_G</th>\n",
       "      <th>career_PER</th>\n",
       "      <th>career_PTS</th>\n",
       "      <th>...</th>\n",
       "      <th>draft_pick</th>\n",
       "      <th>draft_round</th>\n",
       "      <th>draft_team</th>\n",
       "      <th>draft_year</th>\n",
       "      <th>height</th>\n",
       "      <th>highSchool</th>\n",
       "      <th>name</th>\n",
       "      <th>position</th>\n",
       "      <th>shoots</th>\n",
       "      <th>weight</th>\n",
       "    </tr>\n",
       "  </thead>\n",
       "  <tbody>\n",
       "    <tr>\n",
       "      <th>0</th>\n",
       "      <td>abdelal01</td>\n",
       "      <td>June 24, 1968</td>\n",
       "      <td>Cairo, Egypt</td>\n",
       "      <td>0.3</td>\n",
       "      <td>50.2</td>\n",
       "      <td>0.0</td>\n",
       "      <td>70.1</td>\n",
       "      <td>256</td>\n",
       "      <td>13.0</td>\n",
       "      <td>5.7</td>\n",
       "      <td>...</td>\n",
       "      <td>25th overall</td>\n",
       "      <td>1st round</td>\n",
       "      <td>Portland Trail Blazers</td>\n",
       "      <td>1990</td>\n",
       "      <td>6-10</td>\n",
       "      <td>Bloomfield in Bloomfield, New Jersey</td>\n",
       "      <td>Alaa Abdelnaby</td>\n",
       "      <td>Power Forward</td>\n",
       "      <td>Right</td>\n",
       "      <td>240lb</td>\n",
       "    </tr>\n",
       "    <tr>\n",
       "      <th>1</th>\n",
       "      <td>abdulza01</td>\n",
       "      <td>April 7, 1946</td>\n",
       "      <td>Brooklyn, New York</td>\n",
       "      <td>1.2</td>\n",
       "      <td>42.8</td>\n",
       "      <td>NaN</td>\n",
       "      <td>72.8</td>\n",
       "      <td>505</td>\n",
       "      <td>15.1</td>\n",
       "      <td>9.0</td>\n",
       "      <td>...</td>\n",
       "      <td>5th overall</td>\n",
       "      <td>1st round</td>\n",
       "      <td>Cincinnati Royals</td>\n",
       "      <td>1968</td>\n",
       "      <td>6-9</td>\n",
       "      <td>John Jay in Brooklyn, New York</td>\n",
       "      <td>Zaid Abdul-Aziz</td>\n",
       "      <td>Power Forward and Center</td>\n",
       "      <td>Right</td>\n",
       "      <td>235lb</td>\n",
       "    </tr>\n",
       "    <tr>\n",
       "      <th>2</th>\n",
       "      <td>abdulka01</td>\n",
       "      <td>April 16, 1947</td>\n",
       "      <td>New York, New York</td>\n",
       "      <td>3.6</td>\n",
       "      <td>55.9</td>\n",
       "      <td>5.6</td>\n",
       "      <td>72.1</td>\n",
       "      <td>1560</td>\n",
       "      <td>24.6</td>\n",
       "      <td>24.6</td>\n",
       "      <td>...</td>\n",
       "      <td>1st overall</td>\n",
       "      <td>1st round</td>\n",
       "      <td>Milwaukee Bucks</td>\n",
       "      <td>1969</td>\n",
       "      <td>7-2</td>\n",
       "      <td>Power Memorial in New York, New York</td>\n",
       "      <td>Kareem Abdul-Jabbar</td>\n",
       "      <td>Center</td>\n",
       "      <td>Right</td>\n",
       "      <td>225lb</td>\n",
       "    </tr>\n",
       "    <tr>\n",
       "      <th>3</th>\n",
       "      <td>abdulma02</td>\n",
       "      <td>March 9, 1969</td>\n",
       "      <td>Gulfport, Mississippi</td>\n",
       "      <td>3.5</td>\n",
       "      <td>44.2</td>\n",
       "      <td>35.4</td>\n",
       "      <td>90.5</td>\n",
       "      <td>586</td>\n",
       "      <td>15.4</td>\n",
       "      <td>14.6</td>\n",
       "      <td>...</td>\n",
       "      <td>3rd overall</td>\n",
       "      <td>1st round</td>\n",
       "      <td>Denver Nuggets</td>\n",
       "      <td>1990</td>\n",
       "      <td>6-1</td>\n",
       "      <td>Gulfport in Gulfport, Mississippi</td>\n",
       "      <td>Mahmoud Abdul-Rauf</td>\n",
       "      <td>Point Guard</td>\n",
       "      <td>Right</td>\n",
       "      <td>162lb</td>\n",
       "    </tr>\n",
       "    <tr>\n",
       "      <th>4</th>\n",
       "      <td>abdulta01</td>\n",
       "      <td>November 3, 1974</td>\n",
       "      <td>Maisons Alfort, France</td>\n",
       "      <td>1.1</td>\n",
       "      <td>41.7</td>\n",
       "      <td>23.7</td>\n",
       "      <td>70.3</td>\n",
       "      <td>236</td>\n",
       "      <td>11.4</td>\n",
       "      <td>7.8</td>\n",
       "      <td>...</td>\n",
       "      <td>11th overall</td>\n",
       "      <td>1st round</td>\n",
       "      <td>Sacramento Kings</td>\n",
       "      <td>1997</td>\n",
       "      <td>6-6</td>\n",
       "      <td>Lycee Aristide Briand in Evreux, France</td>\n",
       "      <td>Tariq Abdul-Wahad</td>\n",
       "      <td>Shooting Guard</td>\n",
       "      <td>Right</td>\n",
       "      <td>223lb</td>\n",
       "    </tr>\n",
       "  </tbody>\n",
       "</table>\n",
       "<p>5 rows × 24 columns</p>\n",
       "</div>"
      ],
      "text/plain": [
       "         _id         birthDate              birthPlace  career_AST career_FG%  \\\n",
       "0  abdelal01     June 24, 1968            Cairo, Egypt         0.3       50.2   \n",
       "1  abdulza01     April 7, 1946      Brooklyn, New York         1.2       42.8   \n",
       "2  abdulka01    April 16, 1947      New York, New York         3.6       55.9   \n",
       "3  abdulma02     March 9, 1969   Gulfport, Mississippi         3.5       44.2   \n",
       "4  abdulta01  November 3, 1974  Maisons Alfort, France         1.1       41.7   \n",
       "\n",
       "  career_FG3% career_FT%  career_G career_PER  career_PTS  ...    draft_pick  \\\n",
       "0         0.0       70.1       256       13.0         5.7  ...  25th overall   \n",
       "1         NaN       72.8       505       15.1         9.0  ...   5th overall   \n",
       "2         5.6       72.1      1560       24.6        24.6  ...   1st overall   \n",
       "3        35.4       90.5       586       15.4        14.6  ...   3rd overall   \n",
       "4        23.7       70.3       236       11.4         7.8  ...  11th overall   \n",
       "\n",
       "  draft_round              draft_team draft_year height  \\\n",
       "0   1st round  Portland Trail Blazers       1990   6-10   \n",
       "1   1st round       Cincinnati Royals       1968    6-9   \n",
       "2   1st round         Milwaukee Bucks       1969    7-2   \n",
       "3   1st round          Denver Nuggets       1990    6-1   \n",
       "4   1st round        Sacramento Kings       1997    6-6   \n",
       "\n",
       "                                highSchool                 name  \\\n",
       "0     Bloomfield in Bloomfield, New Jersey       Alaa Abdelnaby   \n",
       "1           John Jay in Brooklyn, New York      Zaid Abdul-Aziz   \n",
       "2     Power Memorial in New York, New York  Kareem Abdul-Jabbar   \n",
       "3        Gulfport in Gulfport, Mississippi   Mahmoud Abdul-Rauf   \n",
       "4  Lycee Aristide Briand in Evreux, France    Tariq Abdul-Wahad   \n",
       "\n",
       "                   position shoots weight  \n",
       "0             Power Forward  Right  240lb  \n",
       "1  Power Forward and Center  Right  235lb  \n",
       "2                    Center  Right  225lb  \n",
       "3               Point Guard  Right  162lb  \n",
       "4            Shooting Guard  Right  223lb  \n",
       "\n",
       "[5 rows x 24 columns]"
      ]
     },
     "execution_count": 7,
     "metadata": {},
     "output_type": "execute_result"
    }
   ],
   "source": [
    "pl.head()"
   ]
  },
  {
   "cell_type": "code",
   "execution_count": 8,
   "metadata": {
    "id": "LK2fP444LQ6f",
    "outputId": "1f267345-6b56-4f2e-d19d-aa3d98c1e0be"
   },
   "outputs": [
    {
     "data": {
      "text/html": [
       "<div>\n",
       "<style scoped>\n",
       "    .dataframe tbody tr th:only-of-type {\n",
       "        vertical-align: middle;\n",
       "    }\n",
       "\n",
       "    .dataframe tbody tr th {\n",
       "        vertical-align: top;\n",
       "    }\n",
       "\n",
       "    .dataframe thead th {\n",
       "        text-align: right;\n",
       "    }\n",
       "</style>\n",
       "<table border=\"1\" class=\"dataframe\">\n",
       "  <thead>\n",
       "    <tr style=\"text-align: right;\">\n",
       "      <th></th>\n",
       "      <th>league</th>\n",
       "      <th>player_id</th>\n",
       "      <th>salary</th>\n",
       "      <th>season</th>\n",
       "      <th>season_end</th>\n",
       "      <th>season_start</th>\n",
       "      <th>team</th>\n",
       "    </tr>\n",
       "  </thead>\n",
       "  <tbody>\n",
       "    <tr>\n",
       "      <th>0</th>\n",
       "      <td>NBA</td>\n",
       "      <td>abdelal01</td>\n",
       "      <td>395000</td>\n",
       "      <td>1990-91</td>\n",
       "      <td>1991</td>\n",
       "      <td>1990</td>\n",
       "      <td>Portland Trail Blazers</td>\n",
       "    </tr>\n",
       "    <tr>\n",
       "      <th>1</th>\n",
       "      <td>NBA</td>\n",
       "      <td>abdelal01</td>\n",
       "      <td>494000</td>\n",
       "      <td>1991-92</td>\n",
       "      <td>1992</td>\n",
       "      <td>1991</td>\n",
       "      <td>Portland Trail Blazers</td>\n",
       "    </tr>\n",
       "    <tr>\n",
       "      <th>2</th>\n",
       "      <td>NBA</td>\n",
       "      <td>abdelal01</td>\n",
       "      <td>500000</td>\n",
       "      <td>1992-93</td>\n",
       "      <td>1993</td>\n",
       "      <td>1992</td>\n",
       "      <td>Boston Celtics</td>\n",
       "    </tr>\n",
       "    <tr>\n",
       "      <th>3</th>\n",
       "      <td>NBA</td>\n",
       "      <td>abdelal01</td>\n",
       "      <td>805000</td>\n",
       "      <td>1993-94</td>\n",
       "      <td>1994</td>\n",
       "      <td>1993</td>\n",
       "      <td>Boston Celtics</td>\n",
       "    </tr>\n",
       "    <tr>\n",
       "      <th>4</th>\n",
       "      <td>NBA</td>\n",
       "      <td>abdelal01</td>\n",
       "      <td>650000</td>\n",
       "      <td>1994-95</td>\n",
       "      <td>1995</td>\n",
       "      <td>1994</td>\n",
       "      <td>Sacramento Kings</td>\n",
       "    </tr>\n",
       "  </tbody>\n",
       "</table>\n",
       "</div>"
      ],
      "text/plain": [
       "  league  player_id  salary   season  season_end  season_start  \\\n",
       "0    NBA  abdelal01  395000  1990-91        1991          1990   \n",
       "1    NBA  abdelal01  494000  1991-92        1992          1991   \n",
       "2    NBA  abdelal01  500000  1992-93        1993          1992   \n",
       "3    NBA  abdelal01  805000  1993-94        1994          1993   \n",
       "4    NBA  abdelal01  650000  1994-95        1995          1994   \n",
       "\n",
       "                     team  \n",
       "0  Portland Trail Blazers  \n",
       "1  Portland Trail Blazers  \n",
       "2          Boston Celtics  \n",
       "3          Boston Celtics  \n",
       "4        Sacramento Kings  "
      ]
     },
     "execution_count": 8,
     "metadata": {},
     "output_type": "execute_result"
    }
   ],
   "source": [
    "sal.head()"
   ]
  },
  {
   "cell_type": "markdown",
   "metadata": {
    "id": "-82PuWKfLQ6g"
   },
   "source": [
    "Immediately see that players have different salaries over different seasons. Let's use mean salary together with career stats."
   ]
  },
  {
   "cell_type": "code",
   "execution_count": 9,
   "metadata": {
    "id": "vgq1IHEjLQ6g"
   },
   "outputs": [],
   "source": [
    "gp_sal=sal[['player_id','salary']].groupby('player_id',as_index=False).mean()"
   ]
  },
  {
   "cell_type": "code",
   "execution_count": 10,
   "metadata": {
    "id": "r_B3Y9WFLQ6g",
    "outputId": "e275a10f-445a-4fc4-dc86-2ea3bb7ae29e"
   },
   "outputs": [
    {
     "data": {
      "text/html": [
       "<div>\n",
       "<style scoped>\n",
       "    .dataframe tbody tr th:only-of-type {\n",
       "        vertical-align: middle;\n",
       "    }\n",
       "\n",
       "    .dataframe tbody tr th {\n",
       "        vertical-align: top;\n",
       "    }\n",
       "\n",
       "    .dataframe thead th {\n",
       "        text-align: right;\n",
       "    }\n",
       "</style>\n",
       "<table border=\"1\" class=\"dataframe\">\n",
       "  <thead>\n",
       "    <tr style=\"text-align: right;\">\n",
       "      <th></th>\n",
       "      <th>player_id</th>\n",
       "      <th>salary</th>\n",
       "    </tr>\n",
       "  </thead>\n",
       "  <tbody>\n",
       "    <tr>\n",
       "      <th>0</th>\n",
       "      <td>abdelal01</td>\n",
       "      <td>5.688000e+05</td>\n",
       "    </tr>\n",
       "    <tr>\n",
       "      <th>1</th>\n",
       "      <td>abdulka01</td>\n",
       "      <td>2.140000e+06</td>\n",
       "    </tr>\n",
       "    <tr>\n",
       "      <th>2</th>\n",
       "      <td>abdulma02</td>\n",
       "      <td>2.205500e+06</td>\n",
       "    </tr>\n",
       "    <tr>\n",
       "      <th>3</th>\n",
       "      <td>abdulta01</td>\n",
       "      <td>3.798280e+06</td>\n",
       "    </tr>\n",
       "    <tr>\n",
       "      <th>4</th>\n",
       "      <td>abdursh01</td>\n",
       "      <td>8.715091e+06</td>\n",
       "    </tr>\n",
       "  </tbody>\n",
       "</table>\n",
       "</div>"
      ],
      "text/plain": [
       "   player_id        salary\n",
       "0  abdelal01  5.688000e+05\n",
       "1  abdulka01  2.140000e+06\n",
       "2  abdulma02  2.205500e+06\n",
       "3  abdulta01  3.798280e+06\n",
       "4  abdursh01  8.715091e+06"
      ]
     },
     "execution_count": 10,
     "metadata": {},
     "output_type": "execute_result"
    }
   ],
   "source": [
    "gp_sal.head()"
   ]
  },
  {
   "cell_type": "code",
   "execution_count": 11,
   "metadata": {
    "id": "Y6SrYY8sLQ6g"
   },
   "outputs": [],
   "source": [
    "players=pl.merge(gp_sal,how='left',left_on='_id',right_on='player_id')"
   ]
  },
  {
   "cell_type": "code",
   "execution_count": 12,
   "metadata": {
    "id": "mbM5cEJCLQ6g",
    "outputId": "1c47caa1-9980-4396-90e9-82a979ffec43"
   },
   "outputs": [
    {
     "data": {
      "text/html": [
       "<div>\n",
       "<style scoped>\n",
       "    .dataframe tbody tr th:only-of-type {\n",
       "        vertical-align: middle;\n",
       "    }\n",
       "\n",
       "    .dataframe tbody tr th {\n",
       "        vertical-align: top;\n",
       "    }\n",
       "\n",
       "    .dataframe thead th {\n",
       "        text-align: right;\n",
       "    }\n",
       "</style>\n",
       "<table border=\"1\" class=\"dataframe\">\n",
       "  <thead>\n",
       "    <tr style=\"text-align: right;\">\n",
       "      <th></th>\n",
       "      <th>_id</th>\n",
       "      <th>birthDate</th>\n",
       "      <th>birthPlace</th>\n",
       "      <th>career_AST</th>\n",
       "      <th>career_FG%</th>\n",
       "      <th>career_FG3%</th>\n",
       "      <th>career_FT%</th>\n",
       "      <th>career_G</th>\n",
       "      <th>career_PER</th>\n",
       "      <th>career_PTS</th>\n",
       "      <th>...</th>\n",
       "      <th>draft_team</th>\n",
       "      <th>draft_year</th>\n",
       "      <th>height</th>\n",
       "      <th>highSchool</th>\n",
       "      <th>name</th>\n",
       "      <th>position</th>\n",
       "      <th>shoots</th>\n",
       "      <th>weight</th>\n",
       "      <th>player_id</th>\n",
       "      <th>salary</th>\n",
       "    </tr>\n",
       "  </thead>\n",
       "  <tbody>\n",
       "    <tr>\n",
       "      <th>0</th>\n",
       "      <td>abdelal01</td>\n",
       "      <td>June 24, 1968</td>\n",
       "      <td>Cairo, Egypt</td>\n",
       "      <td>0.3</td>\n",
       "      <td>50.2</td>\n",
       "      <td>0.0</td>\n",
       "      <td>70.1</td>\n",
       "      <td>256</td>\n",
       "      <td>13.0</td>\n",
       "      <td>5.7</td>\n",
       "      <td>...</td>\n",
       "      <td>Portland Trail Blazers</td>\n",
       "      <td>1990</td>\n",
       "      <td>6-10</td>\n",
       "      <td>Bloomfield in Bloomfield, New Jersey</td>\n",
       "      <td>Alaa Abdelnaby</td>\n",
       "      <td>Power Forward</td>\n",
       "      <td>Right</td>\n",
       "      <td>240lb</td>\n",
       "      <td>abdelal01</td>\n",
       "      <td>568800.0</td>\n",
       "    </tr>\n",
       "    <tr>\n",
       "      <th>1</th>\n",
       "      <td>abdulza01</td>\n",
       "      <td>April 7, 1946</td>\n",
       "      <td>Brooklyn, New York</td>\n",
       "      <td>1.2</td>\n",
       "      <td>42.8</td>\n",
       "      <td>NaN</td>\n",
       "      <td>72.8</td>\n",
       "      <td>505</td>\n",
       "      <td>15.1</td>\n",
       "      <td>9.0</td>\n",
       "      <td>...</td>\n",
       "      <td>Cincinnati Royals</td>\n",
       "      <td>1968</td>\n",
       "      <td>6-9</td>\n",
       "      <td>John Jay in Brooklyn, New York</td>\n",
       "      <td>Zaid Abdul-Aziz</td>\n",
       "      <td>Power Forward and Center</td>\n",
       "      <td>Right</td>\n",
       "      <td>235lb</td>\n",
       "      <td>NaN</td>\n",
       "      <td>NaN</td>\n",
       "    </tr>\n",
       "    <tr>\n",
       "      <th>2</th>\n",
       "      <td>abdulka01</td>\n",
       "      <td>April 16, 1947</td>\n",
       "      <td>New York, New York</td>\n",
       "      <td>3.6</td>\n",
       "      <td>55.9</td>\n",
       "      <td>5.6</td>\n",
       "      <td>72.1</td>\n",
       "      <td>1560</td>\n",
       "      <td>24.6</td>\n",
       "      <td>24.6</td>\n",
       "      <td>...</td>\n",
       "      <td>Milwaukee Bucks</td>\n",
       "      <td>1969</td>\n",
       "      <td>7-2</td>\n",
       "      <td>Power Memorial in New York, New York</td>\n",
       "      <td>Kareem Abdul-Jabbar</td>\n",
       "      <td>Center</td>\n",
       "      <td>Right</td>\n",
       "      <td>225lb</td>\n",
       "      <td>abdulka01</td>\n",
       "      <td>2140000.0</td>\n",
       "    </tr>\n",
       "    <tr>\n",
       "      <th>3</th>\n",
       "      <td>abdulma02</td>\n",
       "      <td>March 9, 1969</td>\n",
       "      <td>Gulfport, Mississippi</td>\n",
       "      <td>3.5</td>\n",
       "      <td>44.2</td>\n",
       "      <td>35.4</td>\n",
       "      <td>90.5</td>\n",
       "      <td>586</td>\n",
       "      <td>15.4</td>\n",
       "      <td>14.6</td>\n",
       "      <td>...</td>\n",
       "      <td>Denver Nuggets</td>\n",
       "      <td>1990</td>\n",
       "      <td>6-1</td>\n",
       "      <td>Gulfport in Gulfport, Mississippi</td>\n",
       "      <td>Mahmoud Abdul-Rauf</td>\n",
       "      <td>Point Guard</td>\n",
       "      <td>Right</td>\n",
       "      <td>162lb</td>\n",
       "      <td>abdulma02</td>\n",
       "      <td>2205500.0</td>\n",
       "    </tr>\n",
       "    <tr>\n",
       "      <th>4</th>\n",
       "      <td>abdulta01</td>\n",
       "      <td>November 3, 1974</td>\n",
       "      <td>Maisons Alfort, France</td>\n",
       "      <td>1.1</td>\n",
       "      <td>41.7</td>\n",
       "      <td>23.7</td>\n",
       "      <td>70.3</td>\n",
       "      <td>236</td>\n",
       "      <td>11.4</td>\n",
       "      <td>7.8</td>\n",
       "      <td>...</td>\n",
       "      <td>Sacramento Kings</td>\n",
       "      <td>1997</td>\n",
       "      <td>6-6</td>\n",
       "      <td>Lycee Aristide Briand in Evreux, France</td>\n",
       "      <td>Tariq Abdul-Wahad</td>\n",
       "      <td>Shooting Guard</td>\n",
       "      <td>Right</td>\n",
       "      <td>223lb</td>\n",
       "      <td>abdulta01</td>\n",
       "      <td>3798280.0</td>\n",
       "    </tr>\n",
       "  </tbody>\n",
       "</table>\n",
       "<p>5 rows × 26 columns</p>\n",
       "</div>"
      ],
      "text/plain": [
       "         _id         birthDate              birthPlace  career_AST career_FG%  \\\n",
       "0  abdelal01     June 24, 1968            Cairo, Egypt         0.3       50.2   \n",
       "1  abdulza01     April 7, 1946      Brooklyn, New York         1.2       42.8   \n",
       "2  abdulka01    April 16, 1947      New York, New York         3.6       55.9   \n",
       "3  abdulma02     March 9, 1969   Gulfport, Mississippi         3.5       44.2   \n",
       "4  abdulta01  November 3, 1974  Maisons Alfort, France         1.1       41.7   \n",
       "\n",
       "  career_FG3% career_FT%  career_G career_PER  career_PTS  ...  \\\n",
       "0         0.0       70.1       256       13.0         5.7  ...   \n",
       "1         NaN       72.8       505       15.1         9.0  ...   \n",
       "2         5.6       72.1      1560       24.6        24.6  ...   \n",
       "3        35.4       90.5       586       15.4        14.6  ...   \n",
       "4        23.7       70.3       236       11.4         7.8  ...   \n",
       "\n",
       "               draft_team draft_year height  \\\n",
       "0  Portland Trail Blazers       1990   6-10   \n",
       "1       Cincinnati Royals       1968    6-9   \n",
       "2         Milwaukee Bucks       1969    7-2   \n",
       "3          Denver Nuggets       1990    6-1   \n",
       "4        Sacramento Kings       1997    6-6   \n",
       "\n",
       "                                highSchool                 name  \\\n",
       "0     Bloomfield in Bloomfield, New Jersey       Alaa Abdelnaby   \n",
       "1           John Jay in Brooklyn, New York      Zaid Abdul-Aziz   \n",
       "2     Power Memorial in New York, New York  Kareem Abdul-Jabbar   \n",
       "3        Gulfport in Gulfport, Mississippi   Mahmoud Abdul-Rauf   \n",
       "4  Lycee Aristide Briand in Evreux, France    Tariq Abdul-Wahad   \n",
       "\n",
       "                   position shoots weight  player_id     salary  \n",
       "0             Power Forward  Right  240lb  abdelal01   568800.0  \n",
       "1  Power Forward and Center  Right  235lb        NaN        NaN  \n",
       "2                    Center  Right  225lb  abdulka01  2140000.0  \n",
       "3               Point Guard  Right  162lb  abdulma02  2205500.0  \n",
       "4            Shooting Guard  Right  223lb  abdulta01  3798280.0  \n",
       "\n",
       "[5 rows x 26 columns]"
      ]
     },
     "execution_count": 12,
     "metadata": {},
     "output_type": "execute_result"
    }
   ],
   "source": [
    "players.head()"
   ]
  },
  {
   "cell_type": "markdown",
   "metadata": {
    "id": "xR4xJAejLQ6h"
   },
   "source": [
    "Looks good but there is some missing data."
   ]
  },
  {
   "cell_type": "code",
   "execution_count": 13,
   "metadata": {
    "id": "Qh-t9rNnLQ6h",
    "outputId": "805e4411-d4e4-427f-ccf6-2e5a76a53456"
   },
   "outputs": [
    {
     "data": {
      "text/html": [
       "<div>\n",
       "<style scoped>\n",
       "    .dataframe tbody tr th:only-of-type {\n",
       "        vertical-align: middle;\n",
       "    }\n",
       "\n",
       "    .dataframe tbody tr th {\n",
       "        vertical-align: top;\n",
       "    }\n",
       "\n",
       "    .dataframe thead th {\n",
       "        text-align: right;\n",
       "    }\n",
       "</style>\n",
       "<table border=\"1\" class=\"dataframe\">\n",
       "  <thead>\n",
       "    <tr style=\"text-align: right;\">\n",
       "      <th></th>\n",
       "      <th>_id</th>\n",
       "      <th>birthDate</th>\n",
       "      <th>birthPlace</th>\n",
       "      <th>career_AST</th>\n",
       "      <th>career_FG%</th>\n",
       "      <th>career_FG3%</th>\n",
       "      <th>career_FT%</th>\n",
       "      <th>career_G</th>\n",
       "      <th>career_PER</th>\n",
       "      <th>career_PTS</th>\n",
       "      <th>...</th>\n",
       "      <th>draft_team</th>\n",
       "      <th>draft_year</th>\n",
       "      <th>height</th>\n",
       "      <th>highSchool</th>\n",
       "      <th>name</th>\n",
       "      <th>position</th>\n",
       "      <th>shoots</th>\n",
       "      <th>weight</th>\n",
       "      <th>player_id</th>\n",
       "      <th>salary</th>\n",
       "    </tr>\n",
       "  </thead>\n",
       "  <tbody>\n",
       "    <tr>\n",
       "      <th>1</th>\n",
       "      <td>abdulza01</td>\n",
       "      <td>April 7, 1946</td>\n",
       "      <td>Brooklyn, New York</td>\n",
       "      <td>1.2</td>\n",
       "      <td>42.8</td>\n",
       "      <td>NaN</td>\n",
       "      <td>72.8</td>\n",
       "      <td>505</td>\n",
       "      <td>15.1</td>\n",
       "      <td>9.0</td>\n",
       "      <td>...</td>\n",
       "      <td>Cincinnati Royals</td>\n",
       "      <td>1968</td>\n",
       "      <td>6-9</td>\n",
       "      <td>John Jay in Brooklyn, New York</td>\n",
       "      <td>Zaid Abdul-Aziz</td>\n",
       "      <td>Power Forward and Center</td>\n",
       "      <td>Right</td>\n",
       "      <td>235lb</td>\n",
       "      <td>NaN</td>\n",
       "      <td>NaN</td>\n",
       "    </tr>\n",
       "    <tr>\n",
       "      <th>6</th>\n",
       "      <td>abernto01</td>\n",
       "      <td>May 6, 1954</td>\n",
       "      <td>South Bend, Indiana</td>\n",
       "      <td>1.2</td>\n",
       "      <td>49.2</td>\n",
       "      <td>0.0</td>\n",
       "      <td>74.7</td>\n",
       "      <td>319</td>\n",
       "      <td>12.9</td>\n",
       "      <td>5.6</td>\n",
       "      <td>...</td>\n",
       "      <td>Los Angeles Lakers</td>\n",
       "      <td>1976</td>\n",
       "      <td>6-7</td>\n",
       "      <td>Saint Joseph in South Bend, Indiana</td>\n",
       "      <td>Tom Abernethy</td>\n",
       "      <td>Small Forward and Power Forward</td>\n",
       "      <td>Right</td>\n",
       "      <td>220lb</td>\n",
       "      <td>NaN</td>\n",
       "      <td>NaN</td>\n",
       "    </tr>\n",
       "    <tr>\n",
       "      <th>7</th>\n",
       "      <td>ablefo01</td>\n",
       "      <td>July 27, 1932</td>\n",
       "      <td>NaN</td>\n",
       "      <td>1.0</td>\n",
       "      <td>0.0</td>\n",
       "      <td>NaN</td>\n",
       "      <td>-</td>\n",
       "      <td>1</td>\n",
       "      <td>-41.1</td>\n",
       "      <td>0.0</td>\n",
       "      <td>...</td>\n",
       "      <td>Syracuse Nationals</td>\n",
       "      <td>NaN</td>\n",
       "      <td>6-3</td>\n",
       "      <td>Fairdale in Louisville, Kentucky</td>\n",
       "      <td>Forest Able</td>\n",
       "      <td>Guard</td>\n",
       "      <td>Right</td>\n",
       "      <td>180lb</td>\n",
       "      <td>NaN</td>\n",
       "      <td>NaN</td>\n",
       "    </tr>\n",
       "    <tr>\n",
       "      <th>8</th>\n",
       "      <td>abramjo01</td>\n",
       "      <td>February 9, 1919</td>\n",
       "      <td>Etna, Pennsylvania</td>\n",
       "      <td>0.7</td>\n",
       "      <td>23.7</td>\n",
       "      <td>NaN</td>\n",
       "      <td>68.6</td>\n",
       "      <td>56</td>\n",
       "      <td>-</td>\n",
       "      <td>9.5</td>\n",
       "      <td>...</td>\n",
       "      <td>NaN</td>\n",
       "      <td>NaN</td>\n",
       "      <td>6-3</td>\n",
       "      <td>Etna in Etna, Pennsylvania</td>\n",
       "      <td>John Abramovic</td>\n",
       "      <td>Forward</td>\n",
       "      <td>Right</td>\n",
       "      <td>195lb</td>\n",
       "      <td>NaN</td>\n",
       "      <td>NaN</td>\n",
       "    </tr>\n",
       "    <tr>\n",
       "      <th>11</th>\n",
       "      <td>ackerdo01</td>\n",
       "      <td>September 4, 1930</td>\n",
       "      <td>New York, New York</td>\n",
       "      <td>0.8</td>\n",
       "      <td>22.2</td>\n",
       "      <td>NaN</td>\n",
       "      <td>53.6</td>\n",
       "      <td>28</td>\n",
       "      <td>1.0</td>\n",
       "      <td>1.5</td>\n",
       "      <td>...</td>\n",
       "      <td>New York Knicks</td>\n",
       "      <td>NaN</td>\n",
       "      <td>6-0</td>\n",
       "      <td>Metropolitan in New York, New York</td>\n",
       "      <td>Don Ackerman</td>\n",
       "      <td>Point Guard</td>\n",
       "      <td>Right</td>\n",
       "      <td>183lb</td>\n",
       "      <td>NaN</td>\n",
       "      <td>NaN</td>\n",
       "    </tr>\n",
       "  </tbody>\n",
       "</table>\n",
       "<p>5 rows × 26 columns</p>\n",
       "</div>"
      ],
      "text/plain": [
       "          _id          birthDate           birthPlace  career_AST career_FG%  \\\n",
       "1   abdulza01      April 7, 1946   Brooklyn, New York         1.2       42.8   \n",
       "6   abernto01        May 6, 1954  South Bend, Indiana         1.2       49.2   \n",
       "7    ablefo01      July 27, 1932                  NaN         1.0        0.0   \n",
       "8   abramjo01   February 9, 1919   Etna, Pennsylvania         0.7       23.7   \n",
       "11  ackerdo01  September 4, 1930   New York, New York         0.8       22.2   \n",
       "\n",
       "   career_FG3% career_FT%  career_G career_PER  career_PTS  ...  \\\n",
       "1          NaN       72.8       505       15.1         9.0  ...   \n",
       "6          0.0       74.7       319       12.9         5.6  ...   \n",
       "7          NaN          -         1      -41.1         0.0  ...   \n",
       "8          NaN       68.6        56          -         9.5  ...   \n",
       "11         NaN       53.6        28        1.0         1.5  ...   \n",
       "\n",
       "            draft_team draft_year height                           highSchool  \\\n",
       "1    Cincinnati Royals       1968    6-9       John Jay in Brooklyn, New York   \n",
       "6   Los Angeles Lakers       1976    6-7  Saint Joseph in South Bend, Indiana   \n",
       "7   Syracuse Nationals        NaN    6-3     Fairdale in Louisville, Kentucky   \n",
       "8                  NaN        NaN    6-3           Etna in Etna, Pennsylvania   \n",
       "11     New York Knicks        NaN    6-0   Metropolitan in New York, New York   \n",
       "\n",
       "               name                         position shoots weight player_id  \\\n",
       "1   Zaid Abdul-Aziz         Power Forward and Center  Right  235lb       NaN   \n",
       "6     Tom Abernethy  Small Forward and Power Forward  Right  220lb       NaN   \n",
       "7       Forest Able                            Guard  Right  180lb       NaN   \n",
       "8    John Abramovic                          Forward  Right  195lb       NaN   \n",
       "11     Don Ackerman                      Point Guard  Right  183lb       NaN   \n",
       "\n",
       "   salary  \n",
       "1     NaN  \n",
       "6     NaN  \n",
       "7     NaN  \n",
       "8     NaN  \n",
       "11    NaN  \n",
       "\n",
       "[5 rows x 26 columns]"
      ]
     },
     "execution_count": 13,
     "metadata": {},
     "output_type": "execute_result"
    }
   ],
   "source": [
    "players[players.salary.isnull()].head()"
   ]
  },
  {
   "cell_type": "markdown",
   "metadata": {
    "id": "fACpx5KPLQ6h"
   },
   "source": [
    "Looks like mostly older data so let's drop NaNs."
   ]
  },
  {
   "cell_type": "code",
   "execution_count": 14,
   "metadata": {
    "id": "nRr7Xp5_LQ6h"
   },
   "outputs": [],
   "source": [
    "players=players[players['salary'].notnull()]"
   ]
  },
  {
   "cell_type": "markdown",
   "metadata": {
    "id": "7qMC1RSJLQ6i"
   },
   "source": [
    "Is Steph in here?"
   ]
  },
  {
   "cell_type": "code",
   "execution_count": 15,
   "metadata": {
    "id": "TDlxsG8BLQ6i",
    "outputId": "b7f8487f-9060-4c50-ed73-fc3387f5ec46"
   },
   "outputs": [
    {
     "data": {
      "text/html": [
       "<div>\n",
       "<style scoped>\n",
       "    .dataframe tbody tr th:only-of-type {\n",
       "        vertical-align: middle;\n",
       "    }\n",
       "\n",
       "    .dataframe tbody tr th {\n",
       "        vertical-align: top;\n",
       "    }\n",
       "\n",
       "    .dataframe thead th {\n",
       "        text-align: right;\n",
       "    }\n",
       "</style>\n",
       "<table border=\"1\" class=\"dataframe\">\n",
       "  <thead>\n",
       "    <tr style=\"text-align: right;\">\n",
       "      <th></th>\n",
       "      <th>_id</th>\n",
       "      <th>birthDate</th>\n",
       "      <th>birthPlace</th>\n",
       "      <th>career_AST</th>\n",
       "      <th>career_FG%</th>\n",
       "      <th>career_FG3%</th>\n",
       "      <th>career_FT%</th>\n",
       "      <th>career_G</th>\n",
       "      <th>career_PER</th>\n",
       "      <th>career_PTS</th>\n",
       "      <th>...</th>\n",
       "      <th>draft_team</th>\n",
       "      <th>draft_year</th>\n",
       "      <th>height</th>\n",
       "      <th>highSchool</th>\n",
       "      <th>name</th>\n",
       "      <th>position</th>\n",
       "      <th>shoots</th>\n",
       "      <th>weight</th>\n",
       "      <th>player_id</th>\n",
       "      <th>salary</th>\n",
       "    </tr>\n",
       "  </thead>\n",
       "  <tbody>\n",
       "    <tr>\n",
       "      <th>899</th>\n",
       "      <td>curryst01</td>\n",
       "      <td>March 14, 1988</td>\n",
       "      <td>Akron, Ohio</td>\n",
       "      <td>6.6</td>\n",
       "      <td>47.7</td>\n",
       "      <td>43.6</td>\n",
       "      <td>90.5</td>\n",
       "      <td>694</td>\n",
       "      <td>23.8</td>\n",
       "      <td>23.5</td>\n",
       "      <td>...</td>\n",
       "      <td>Golden State Warriors</td>\n",
       "      <td>2009</td>\n",
       "      <td>6-3</td>\n",
       "      <td>Charlotte Christian in Charlotte, North Carolina</td>\n",
       "      <td>Stephen Curry</td>\n",
       "      <td>Point Guard</td>\n",
       "      <td>Right</td>\n",
       "      <td>190lb</td>\n",
       "      <td>curryst01</td>\n",
       "      <td>1.015365e+07</td>\n",
       "    </tr>\n",
       "  </tbody>\n",
       "</table>\n",
       "<p>1 rows × 26 columns</p>\n",
       "</div>"
      ],
      "text/plain": [
       "           _id       birthDate   birthPlace  career_AST career_FG%  \\\n",
       "899  curryst01  March 14, 1988  Akron, Ohio         6.6       47.7   \n",
       "\n",
       "    career_FG3% career_FT%  career_G career_PER  career_PTS  ...  \\\n",
       "899        43.6       90.5       694       23.8        23.5  ...   \n",
       "\n",
       "                draft_team draft_year height  \\\n",
       "899  Golden State Warriors       2009    6-3   \n",
       "\n",
       "                                           highSchool           name  \\\n",
       "899  Charlotte Christian in Charlotte, North Carolina  Stephen Curry   \n",
       "\n",
       "        position shoots weight  player_id        salary  \n",
       "899  Point Guard  Right  190lb  curryst01  1.015365e+07  \n",
       "\n",
       "[1 rows x 26 columns]"
      ]
     },
     "execution_count": 15,
     "metadata": {},
     "output_type": "execute_result"
    }
   ],
   "source": [
    "players[players['name']==\"Stephen Curry\"]"
   ]
  },
  {
   "cell_type": "markdown",
   "metadata": {
    "id": "U4j2BoQrLQ6i"
   },
   "source": [
    "Yes! Great, let's predict (log) salary based on available features."
   ]
  },
  {
   "cell_type": "code",
   "execution_count": 16,
   "metadata": {
    "id": "pgDotU3aLQ6i"
   },
   "outputs": [],
   "source": [
    "from sklearn import tree"
   ]
  },
  {
   "cell_type": "code",
   "execution_count": 17,
   "metadata": {
    "id": "5wTF2T6dLQ6i"
   },
   "outputs": [],
   "source": [
    "from sklearn.tree import DecisionTreeRegressor"
   ]
  },
  {
   "cell_type": "markdown",
   "metadata": {
    "id": "7Psj2R8GLQ6i"
   },
   "source": [
    "First let's play around with just a couple of features:"
   ]
  },
  {
   "cell_type": "code",
   "execution_count": 18,
   "metadata": {
    "id": "Xpv47fOHLQ6j"
   },
   "outputs": [],
   "source": [
    "ex_data=players[['career_PTS','career_G','salary']]"
   ]
  },
  {
   "cell_type": "markdown",
   "metadata": {
    "id": "k3cbjr2cLQ6j"
   },
   "source": [
    "Let's take logs of variables that can get really big."
   ]
  },
  {
   "cell_type": "code",
   "execution_count": 19,
   "metadata": {
    "id": "KhU4AlhxLQ6j",
    "outputId": "af1e98c7-be10-4368-953c-d2b88eea4f73"
   },
   "outputs": [
    {
     "data": {
      "text/plain": [
       "<matplotlib.axes._subplots.AxesSubplot at 0x7fb55752fd30>"
      ]
     },
     "execution_count": 19,
     "metadata": {},
     "output_type": "execute_result"
    },
    {
     "data": {
      "image/png": "[encoded data removed]",
      "text/plain": [
       "<Figure size 432x288 with 1 Axes>"
      ]
     },
     "metadata": {
      "needs_background": "light"
     },
     "output_type": "display_data"
    }
   ],
   "source": [
    "ex_data['salary'].hist(bins=30)"
   ]
  },
  {
   "cell_type": "code",
   "execution_count": 20,
   "metadata": {
    "id": "jQiUjIYaLQ6j",
    "outputId": "e4111b01-970f-4ded-dada-388dcecc36b5"
   },
   "outputs": [
    {
     "name": "stderr",
     "output_type": "stream",
     "text": [
      "<ipython-input-20-0049946cf78f>:1: SettingWithCopyWarning: \n",
      "A value is trying to be set on a copy of a slice from a DataFrame.\n",
      "Try using .loc[row_indexer,col_indexer] = value instead\n",
      "\n",
      "See the caveats in the documentation: https://pandas.pydata.org/pandas-docs/stable/user_guide/indexing.html#returning-a-view-versus-a-copy\n",
      "  ex_data['logsalary']=np.log(ex_data['salary'])\n",
      "<ipython-input-20-0049946cf78f>:2: SettingWithCopyWarning: \n",
      "A value is trying to be set on a copy of a slice from a DataFrame.\n",
      "Try using .loc[row_indexer,col_indexer] = value instead\n",
      "\n",
      "See the caveats in the documentation: https://pandas.pydata.org/pandas-docs/stable/user_guide/indexing.html#returning-a-view-versus-a-copy\n",
      "  ex_data['logG']=np.log(ex_data['career_G'])\n"
     ]
    }
   ],
   "source": [
    "ex_data['logsalary']=np.log(ex_data['salary'])\n",
    "ex_data['logG']=np.log(ex_data['career_G'])"
   ]
  },
  {
   "cell_type": "code",
   "execution_count": 21,
   "metadata": {
    "id": "2kSdahoHLQ6j",
    "outputId": "220bdd65-8a40-4e3f-f063-612f2382d97c"
   },
   "outputs": [
    {
     "data": {
      "text/plain": [
       "<matplotlib.axes._subplots.AxesSubplot at 0x7fb557635eb0>"
      ]
     },
     "execution_count": 21,
     "metadata": {},
     "output_type": "execute_result"
    },
    {
     "data": {
      "image/png": "[encoded data removed]",
      "text/plain": [
       "<Figure size 432x288 with 1 Axes>"
      ]
     },
     "metadata": {
      "needs_background": "light"
     },
     "output_type": "display_data"
    }
   ],
   "source": [
    "ex_data['logsalary'].hist(bins=30)"
   ]
  },
  {
   "cell_type": "code",
   "execution_count": 22,
   "metadata": {
    "id": "1J2E0J2lLQ6k",
    "outputId": "5dfba423-e335-4b76-e59e-c188e10b9483"
   },
   "outputs": [
    {
     "data": {
      "text/plain": [
       "career_PTS    0\n",
       "career_G      0\n",
       "salary        0\n",
       "logsalary     0\n",
       "logG          0\n",
       "dtype: int64"
      ]
     },
     "execution_count": 22,
     "metadata": {},
     "output_type": "execute_result"
    }
   ],
   "source": [
    "ex_data.isnull().sum()"
   ]
  },
  {
   "cell_type": "markdown",
   "metadata": {
    "id": "x6_vl2npLQ6k"
   },
   "source": [
    "Good to go!"
   ]
  },
  {
   "cell_type": "code",
   "execution_count": 23,
   "metadata": {
    "id": "AcQ5x2X6LQ6k"
   },
   "outputs": [],
   "source": [
    "Xe=ex_data[['career_PTS','logG']]\n",
    "ye=ex_data['logsalary']"
   ]
  },
  {
   "cell_type": "code",
   "execution_count": 24,
   "metadata": {
    "id": "PisNVrBHLQ6k",
    "outputId": "bad20d77-6f47-40e4-dd6b-0a7de0ad70dd"
   },
   "outputs": [
    {
     "data": {
      "text/plain": [
       "<matplotlib.axes._subplots.AxesSubplot at 0x7fb557756970>"
      ]
     },
     "execution_count": 24,
     "metadata": {},
     "output_type": "execute_result"
    },
    {
     "data": {
      "image/png": "[encoded data removed]",
      "text/plain": [
       "<Figure size 432x288 with 1 Axes>"
      ]
     },
     "metadata": {
      "needs_background": "light"
     },
     "output_type": "display_data"
    }
   ],
   "source": [
    "sns.scatterplot(x='career_PTS',y='logG',data=ex_data)"
   ]
  },
  {
   "cell_type": "markdown",
   "metadata": {
    "id": "1xuOIyXWLQ6l"
   },
   "source": [
    "Each dot has a salary -- think of as a height above the point or use color."
   ]
  },
  {
   "cell_type": "code",
   "execution_count": 25,
   "metadata": {
    "id": "xmqfWqeWLQ6l",
    "outputId": "842ec335-d44f-49cd-c0bc-21fccd6e28f1"
   },
   "outputs": [
    {
     "data": {
      "text/plain": [
       "<matplotlib.axes._subplots.AxesSubplot at 0x7fb55816ed30>"
      ]
     },
     "execution_count": 25,
     "metadata": {},
     "output_type": "execute_result"
    },
    {
     "data": {
      "image/png": "[encoded data removed]",
      "text/plain": [
       "<Figure size 432x288 with 1 Axes>"
      ]
     },
     "metadata": {
      "needs_background": "light"
     },
     "output_type": "display_data"
    }
   ],
   "source": [
    "sns.scatterplot(x='career_PTS',y='logG',data=ex_data,hue='logsalary')"
   ]
  },
  {
   "cell_type": "markdown",
   "metadata": {
    "id": "a0yqEuKaLQ6l"
   },
   "source": [
    "Idea of a decision tree: Divide the predictor space up into non-overlapping regions $R_1,\\ldots, R_n$."
   ]
  },
  {
   "cell_type": "markdown",
   "metadata": {
    "id": "e2omTy_JLQ6l"
   },
   "source": [
    "Then predict the same value for all points in a given region $R_i$: use mean of all values in $R_i$: average log salary, eg."
   ]
  },
  {
   "cell_type": "markdown",
   "metadata": {
    "id": "Br4wHeytLQ6m"
   },
   "source": [
    "This is complicated in that there are too many possible regions. "
   ]
  },
  {
   "cell_type": "markdown",
   "metadata": {
    "id": "pER8yJQOLQ6m"
   },
   "source": [
    "* Use rectangles\n",
    "* Pick a predictor $X_j$. For each value $s$, compute $RSS$ using ($X_j < s$) and ($X_j > s$) \n",
    "* Pick the predictor and cutpoint having the lowest $RSS$.\n",
    "* Now repeat within previously defined regions."
   ]
  },
  {
   "cell_type": "markdown",
   "metadata": {
    "id": "Hii7BLyXLQ6m"
   },
   "source": [
    "The rectangular regions are called *terminal nodes* or *leaves*."
   ]
  },
  {
   "cell_type": "markdown",
   "metadata": {
    "id": "1VJSYJViLQ6m"
   },
   "source": [
    "Example"
   ]
  },
  {
   "cell_type": "code",
   "execution_count": 26,
   "metadata": {
    "id": "LcJzj3YzLQ6m"
   },
   "outputs": [],
   "source": [
    "eregr = DecisionTreeRegressor(max_depth=2).fit(Xe,ye)"
   ]
  },
  {
   "cell_type": "code",
   "execution_count": 27,
   "metadata": {
    "id": "ovrvwzo4LQ6m"
   },
   "outputs": [],
   "source": [
    "from sklearn.tree import export_text"
   ]
  },
  {
   "cell_type": "code",
   "execution_count": 28,
   "metadata": {
    "id": "d9AStwCuLQ6m",
    "outputId": "2ab63d28-05bf-475d-b131-c264a9b96dbd"
   },
   "outputs": [
    {
     "name": "stdout",
     "output_type": "stream",
     "text": [
      "|--- logG <= 4.90\n",
      "|   |--- logG <= 3.24\n",
      "|   |   |--- value: [12.09]\n",
      "|   |--- logG >  3.24\n",
      "|   |   |--- value: [12.98]\n",
      "|--- logG >  4.90\n",
      "|   |--- career_PTS <= 9.05\n",
      "|   |   |--- value: [13.90]\n",
      "|   |--- career_PTS >  9.05\n",
      "|   |   |--- value: [14.84]\n",
      "\n"
     ]
    }
   ],
   "source": [
    "r = export_text(eregr,feature_names=list(Xe.columns))\n",
    "print(r)"
   ]
  },
  {
   "cell_type": "code",
   "execution_count": 29,
   "metadata": {
    "id": "oureYPaxLQ6n",
    "outputId": "7b1afabe-b7be-499e-c9bc-282ad1442b93"
   },
   "outputs": [
    {
     "data": {
      "text/plain": [
       "2"
      ]
     },
     "execution_count": 29,
     "metadata": {},
     "output_type": "execute_result"
    }
   ],
   "source": [
    "eregr.get_depth()"
   ]
  },
  {
   "cell_type": "code",
   "execution_count": 30,
   "metadata": {
    "id": "cIIZKc4cLQ6o",
    "outputId": "cf69c59b-6d76-4280-df01-3fe33ee75b08"
   },
   "outputs": [
    {
     "name": "stdout",
     "output_type": "stream",
     "text": [
      "|--- logG <= 4.90\n",
      "|   |--- logG <= 3.24\n",
      "|   |   |--- logG <= 1.50\n",
      "|   |   |   |--- value: [11.55]\n",
      "|   |   |--- logG >  1.50\n",
      "|   |   |   |--- value: [12.25]\n",
      "|   |--- logG >  3.24\n",
      "|   |   |--- career_PTS <= 7.40\n",
      "|   |   |   |--- value: [12.92]\n",
      "|   |   |--- career_PTS >  7.40\n",
      "|   |   |   |--- value: [13.99]\n",
      "|--- logG >  4.90\n",
      "|   |--- career_PTS <= 9.05\n",
      "|   |   |--- logG <= 5.80\n",
      "|   |   |   |--- value: [13.55]\n",
      "|   |   |--- logG >  5.80\n",
      "|   |   |   |--- value: [14.20]\n",
      "|   |--- career_PTS >  9.05\n",
      "|   |   |--- career_PTS <= 14.35\n",
      "|   |   |   |--- value: [14.67]\n",
      "|   |   |--- career_PTS >  14.35\n",
      "|   |   |   |--- value: [15.16]\n",
      "\n"
     ]
    }
   ],
   "source": [
    "eregr3 = DecisionTreeRegressor(max_depth=3).fit(Xe,ye)\n",
    "r3=export_text(eregr3,feature_names=list(Xe.columns))\n",
    "print(r3)"
   ]
  },
  {
   "cell_type": "markdown",
   "metadata": {
    "id": "ucyYyHvFLQ6o"
   },
   "source": [
    "Visual aid on the depth 2 tree:"
   ]
  },
  {
   "cell_type": "code",
   "execution_count": 31,
   "metadata": {
    "id": "OZi6bRlQLQ6o",
    "outputId": "ae46bde8-c943-4b0a-97cf-be79dc3e8f3e"
   },
   "outputs": [
    {
     "data": {
      "text/plain": [
       "<matplotlib.collections.LineCollection at 0x7fb558961cd0>"
      ]
     },
     "execution_count": 31,
     "metadata": {},
     "output_type": "execute_result"
    },
    {
     "data": {
      "image/png": "[encoded data removed]",
      "text/plain": [
       "<Figure size 432x288 with 1 Axes>"
      ]
     },
     "metadata": {
      "needs_background": "light"
     },
     "output_type": "display_data"
    }
   ],
   "source": [
    "sns.scatterplot(x='career_PTS',y='logG',data=ex_data)\n",
    "plt.hlines(y=4.9, xmin=0, xmax=30, colors='black', ls=':', lw=3)\n",
    "plt.hlines(y=3.24, xmin=0, xmax=30, colors='black', ls=':', lw=3)\n",
    "plt.vlines(x=9.05, ymin=4.9, ymax=7.5, colors='black', ls=':', lw=3)"
   ]
  },
  {
   "cell_type": "markdown",
   "metadata": {
    "id": "HleDsPO0LQ6o"
   },
   "source": [
    "Let's work on the full data set"
   ]
  },
  {
   "cell_type": "code",
   "execution_count": 32,
   "metadata": {
    "id": "JXM_X75vLQ6o"
   },
   "outputs": [],
   "source": [
    "players['logsalary']=np.log(players['salary'])\n",
    "players['logG'] =np.log(players['career_G'])"
   ]
  },
  {
   "cell_type": "code",
   "execution_count": 33,
   "metadata": {
    "id": "T_sBzYZpLQ6p",
    "outputId": "cd525ca6-930e-42d3-f289-021eb679b527"
   },
   "outputs": [
    {
     "data": {
      "text/plain": [
       "Index(['_id', 'birthDate', 'birthPlace', 'career_AST', 'career_FG%',\n",
       "       'career_FG3%', 'career_FT%', 'career_G', 'career_PER', 'career_PTS',\n",
       "       'career_TRB', 'career_WS', 'career_eFG%', 'college', 'draft_pick',\n",
       "       'draft_round', 'draft_team', 'draft_year', 'height', 'highSchool',\n",
       "       'name', 'position', 'shoots', 'weight', 'player_id', 'salary',\n",
       "       'logsalary', 'logG'],\n",
       "      dtype='object')"
      ]
     },
     "execution_count": 33,
     "metadata": {},
     "output_type": "execute_result"
    }
   ],
   "source": [
    "players.columns"
   ]
  },
  {
   "cell_type": "markdown",
   "metadata": {
    "id": "ty_sQVGSLQ6p"
   },
   "source": [
    "Let's use columns that seem relevant and drop some that don't."
   ]
  },
  {
   "cell_type": "code",
   "execution_count": 34,
   "metadata": {
    "id": "uv6AWb6ILQ6p"
   },
   "outputs": [],
   "source": [
    "pdf=players[['career_AST', 'career_FG%','career_FG3%', 'career_FT%', 'career_G', 'career_PER', 'career_PTS','career_TRB', 'career_WS', 'career_eFG%',\n",
    "       'logsalary', 'logG']]"
   ]
  },
  {
   "cell_type": "markdown",
   "metadata": {
    "id": "wDZqRk3aLQ6p"
   },
   "source": [
    "Some of these features need to be converted to numerical."
   ]
  },
  {
   "cell_type": "code",
   "execution_count": 35,
   "metadata": {
    "id": "IfWST-lMLQ6p",
    "outputId": "04cdba18-1cda-4a31-8737-a19ebdb5fa4c"
   },
   "outputs": [
    {
     "data": {
      "text/plain": [
       "career_AST     float64\n",
       "career_FG%      object\n",
       "career_FG3%     object\n",
       "career_FT%      object\n",
       "career_G         int64\n",
       "career_PER      object\n",
       "career_PTS     float64\n",
       "career_TRB      object\n",
       "career_WS       object\n",
       "career_eFG%     object\n",
       "logsalary      float64\n",
       "logG           float64\n",
       "dtype: object"
      ]
     },
     "execution_count": 35,
     "metadata": {},
     "output_type": "execute_result"
    }
   ],
   "source": [
    "pdf.dtypes"
   ]
  },
  {
   "cell_type": "code",
   "execution_count": 36,
   "metadata": {
    "id": "TEFgb_WsLQ6p",
    "outputId": "a8262999-4dcf-44df-b0df-0dd5ce2f86cb"
   },
   "outputs": [
    {
     "name": "stderr",
     "output_type": "stream",
     "text": [
      "<ipython-input-36-d8f5dc6bedca>:1: SettingWithCopyWarning: \n",
      "A value is trying to be set on a copy of a slice from a DataFrame.\n",
      "Try using .loc[row_indexer,col_indexer] = value instead\n",
      "\n",
      "See the caveats in the documentation: https://pandas.pydata.org/pandas-docs/stable/user_guide/indexing.html#returning-a-view-versus-a-copy\n",
      "  pdf['career_FG%']=pd.to_numeric(pdf['career_FG%'],errors='coerce')\n",
      "<ipython-input-36-d8f5dc6bedca>:2: SettingWithCopyWarning: \n",
      "A value is trying to be set on a copy of a slice from a DataFrame.\n",
      "Try using .loc[row_indexer,col_indexer] = value instead\n",
      "\n",
      "See the caveats in the documentation: https://pandas.pydata.org/pandas-docs/stable/user_guide/indexing.html#returning-a-view-versus-a-copy\n",
      "  pdf['career_FG3%']=pd.to_numeric(pdf['career_FG3%'],errors='coerce')\n",
      "<ipython-input-36-d8f5dc6bedca>:3: SettingWithCopyWarning: \n",
      "A value is trying to be set on a copy of a slice from a DataFrame.\n",
      "Try using .loc[row_indexer,col_indexer] = value instead\n",
      "\n",
      "See the caveats in the documentation: https://pandas.pydata.org/pandas-docs/stable/user_guide/indexing.html#returning-a-view-versus-a-copy\n",
      "  pdf['career_FT%']=pd.to_numeric(pdf['career_FT%'],errors='coerce')\n",
      "<ipython-input-36-d8f5dc6bedca>:4: SettingWithCopyWarning: \n",
      "A value is trying to be set on a copy of a slice from a DataFrame.\n",
      "Try using .loc[row_indexer,col_indexer] = value instead\n",
      "\n",
      "See the caveats in the documentation: https://pandas.pydata.org/pandas-docs/stable/user_guide/indexing.html#returning-a-view-versus-a-copy\n",
      "  pdf['career_PER']=pd.to_numeric(pdf['career_PER'],errors='coerce')\n",
      "<ipython-input-36-d8f5dc6bedca>:5: SettingWithCopyWarning: \n",
      "A value is trying to be set on a copy of a slice from a DataFrame.\n",
      "Try using .loc[row_indexer,col_indexer] = value instead\n",
      "\n",
      "See the caveats in the documentation: https://pandas.pydata.org/pandas-docs/stable/user_guide/indexing.html#returning-a-view-versus-a-copy\n",
      "  pdf['career_TRB']=pd.to_numeric(pdf['career_TRB'],errors='coerce')\n",
      "<ipython-input-36-d8f5dc6bedca>:6: SettingWithCopyWarning: \n",
      "A value is trying to be set on a copy of a slice from a DataFrame.\n",
      "Try using .loc[row_indexer,col_indexer] = value instead\n",
      "\n",
      "See the caveats in the documentation: https://pandas.pydata.org/pandas-docs/stable/user_guide/indexing.html#returning-a-view-versus-a-copy\n",
      "  pdf['career_WS']=pd.to_numeric(pdf['career_WS'],errors='coerce')\n",
      "<ipython-input-36-d8f5dc6bedca>:7: SettingWithCopyWarning: \n",
      "A value is trying to be set on a copy of a slice from a DataFrame.\n",
      "Try using .loc[row_indexer,col_indexer] = value instead\n",
      "\n",
      "See the caveats in the documentation: https://pandas.pydata.org/pandas-docs/stable/user_guide/indexing.html#returning-a-view-versus-a-copy\n",
      "  pdf['career_eFG%']=pd.to_numeric(pdf['career_eFG%'],errors='coerce')\n"
     ]
    }
   ],
   "source": [
    "pdf['career_FG%']=pd.to_numeric(pdf['career_FG%'],errors='coerce')\n",
    "pdf['career_FG3%']=pd.to_numeric(pdf['career_FG3%'],errors='coerce')\n",
    "pdf['career_FT%']=pd.to_numeric(pdf['career_FT%'],errors='coerce')\n",
    "pdf['career_PER']=pd.to_numeric(pdf['career_PER'],errors='coerce')\n",
    "pdf['career_TRB']=pd.to_numeric(pdf['career_TRB'],errors='coerce')\n",
    "pdf['career_WS']=pd.to_numeric(pdf['career_WS'],errors='coerce')\n",
    "pdf['career_eFG%']=pd.to_numeric(pdf['career_eFG%'],errors='coerce')"
   ]
  },
  {
   "cell_type": "code",
   "execution_count": 37,
   "metadata": {
    "id": "ek5GSgIYLQ6p",
    "outputId": "31d27911-44f2-463e-c605-f2770187daa7"
   },
   "outputs": [
    {
     "data": {
      "text/plain": [
       "career_AST       0\n",
       "career_FG%       9\n",
       "career_FG3%    219\n",
       "career_FT%      69\n",
       "career_G         0\n",
       "career_PER       2\n",
       "career_PTS       0\n",
       "career_TRB       0\n",
       "career_WS        0\n",
       "career_eFG%      9\n",
       "logsalary        0\n",
       "logG             0\n",
       "dtype: int64"
      ]
     },
     "execution_count": 37,
     "metadata": {},
     "output_type": "execute_result"
    }
   ],
   "source": [
    "pdf.isnull().sum()"
   ]
  },
  {
   "cell_type": "markdown",
   "metadata": {
    "id": "L4oXS1nULQ6q"
   },
   "source": [
    "As before, drop nans."
   ]
  },
  {
   "cell_type": "code",
   "execution_count": 38,
   "metadata": {
    "id": "AMGWLCi6LQ6q"
   },
   "outputs": [],
   "source": [
    "pdf=pdf.dropna()"
   ]
  },
  {
   "cell_type": "code",
   "execution_count": 39,
   "metadata": {
    "id": "Z7FrQGdlLQ6q"
   },
   "outputs": [],
   "source": [
    "X=pdf.drop('logsalary',axis=1)\n",
    "y=pdf['logsalary']"
   ]
  },
  {
   "cell_type": "code",
   "execution_count": 40,
   "metadata": {
    "id": "5M0VrONFLQ6q"
   },
   "outputs": [],
   "source": [
    "X_train, X_test, y_train, y_test = train_test_split(X,y,test_size=0.3, random_state=5)"
   ]
  },
  {
   "cell_type": "code",
   "execution_count": 41,
   "metadata": {
    "id": "VQRKaSVgLQ6q",
    "outputId": "234d8856-a84d-4f7a-88af-b0688e7b3131"
   },
   "outputs": [
    {
     "data": {
      "text/plain": [
       "DecisionTreeRegressor()"
      ]
     },
     "execution_count": 41,
     "metadata": {},
     "output_type": "execute_result"
    }
   ],
   "source": [
    "regr_1 = DecisionTreeRegressor(max_depth=2)\n",
    "regr_5 = DecisionTreeRegressor(max_depth=5)\n",
    "full_tree = DecisionTreeRegressor()\n",
    "regr_1.fit(X_train, y_train)\n",
    "regr_5.fit(X_train, y_train)\n",
    "full_tree.fit(X_train, y_train)"
   ]
  },
  {
   "cell_type": "code",
   "execution_count": 42,
   "metadata": {
    "id": "a_Rwdw7sLQ6q",
    "outputId": "c35c6b60-fad2-4af3-819b-5e679214b43f"
   },
   "outputs": [
    {
     "data": {
      "text/plain": [
       "22"
      ]
     },
     "execution_count": 42,
     "metadata": {},
     "output_type": "execute_result"
    }
   ],
   "source": [
    "full_tree.get_depth()"
   ]
  },
  {
   "cell_type": "code",
   "execution_count": 43,
   "metadata": {
    "id": "ZY4Q0h2pLQ6r"
   },
   "outputs": [],
   "source": [
    "from sklearn.metrics import mean_squared_error"
   ]
  },
  {
   "cell_type": "code",
   "execution_count": 44,
   "metadata": {
    "id": "CYjewKm_LQ6r",
    "outputId": "ba043251-64a5-43ae-e992-387cb2e3ea7a"
   },
   "outputs": [
    {
     "data": {
      "text/plain": [
       "0.0"
      ]
     },
     "execution_count": 44,
     "metadata": {},
     "output_type": "execute_result"
    }
   ],
   "source": [
    "mean_squared_error(full_tree.predict(X_train), y_train)"
   ]
  },
  {
   "cell_type": "code",
   "execution_count": 45,
   "metadata": {
    "id": "PjUNk2CBLQ6r",
    "outputId": "e19c7d45-3b74-4124-d6b7-07b27aefc46e"
   },
   "outputs": [
    {
     "data": {
      "text/plain": [
       "0.7318517992925049"
      ]
     },
     "execution_count": 45,
     "metadata": {},
     "output_type": "execute_result"
    }
   ],
   "source": [
    "mean_squared_error(regr_5.predict(X_train), y_train)"
   ]
  },
  {
   "cell_type": "code",
   "execution_count": 46,
   "metadata": {
    "id": "fEh5ERGCLQ6s",
    "outputId": "6eb9b0d2-0288-47b0-a25a-090cbba5b867"
   },
   "outputs": [
    {
     "data": {
      "text/plain": [
       "1.0382856738369686"
      ]
     },
     "execution_count": 46,
     "metadata": {},
     "output_type": "execute_result"
    }
   ],
   "source": [
    "mean_squared_error(regr_1.predict(X_train), y_train)"
   ]
  },
  {
   "cell_type": "code",
   "execution_count": 47,
   "metadata": {
    "id": "Qi1BvMbqLQ6s",
    "outputId": "0c54539d-d282-46dd-ae6a-f6bfd8b77722"
   },
   "outputs": [
    {
     "name": "stdout",
     "output_type": "stream",
     "text": [
      "full 1.4121045621133965 : depth5 0.8638189588881553 : depth2 0.9628871344705724\n"
     ]
    }
   ],
   "source": [
    "print(\"full\",mean_squared_error(full_tree.predict(X_test), y_test),\":\",\"depth5\",mean_squared_error(regr_5.predict(X_test), y_test),\":\",\"depth2\",mean_squared_error(regr_1.predict(X_test), y_test))"
   ]
  },
  {
   "cell_type": "markdown",
   "metadata": {
    "id": "M9L64OWVLQ6s"
   },
   "source": [
    "Good example of overfitting!!"
   ]
  },
  {
   "cell_type": "markdown",
   "metadata": {
    "id": "GLixXVTiLQ6s"
   },
   "source": [
    "Deep trees are prone to overfitting."
   ]
  },
  {
   "cell_type": "markdown",
   "metadata": {
    "id": "lIs5mJnHLQ6s"
   },
   "source": [
    "We can also use $R^2$ on test set as metric"
   ]
  },
  {
   "cell_type": "code",
   "execution_count": 48,
   "metadata": {
    "id": "_aNR0NPwLQ6s"
   },
   "outputs": [],
   "source": [
    "from sklearn.metrics import r2_score"
   ]
  },
  {
   "cell_type": "code",
   "execution_count": 49,
   "metadata": {
    "id": "l11YY8NZLQ6t",
    "outputId": "9ae7245d-3a83-49a7-dad0-958e654448f4"
   },
   "outputs": [
    {
     "data": {
      "text/plain": [
       "0.1585081058787675"
      ]
     },
     "execution_count": 49,
     "metadata": {},
     "output_type": "execute_result"
    }
   ],
   "source": [
    "r2_score(full_tree.predict(X_test),y_test)"
   ]
  },
  {
   "cell_type": "code",
   "execution_count": 50,
   "metadata": {
    "id": "RaBE6GF8LQ6t",
    "outputId": "853b4a8b-d754-4c8e-f0ab-b60c5f7379d3"
   },
   "outputs": [
    {
     "data": {
      "text/plain": [
       "0.17792705017844235"
      ]
     },
     "execution_count": 50,
     "metadata": {},
     "output_type": "execute_result"
    }
   ],
   "source": [
    "r2_score(regr_5.predict(X_test),y_test)"
   ]
  },
  {
   "cell_type": "markdown",
   "metadata": {
    "id": "1C9DXkbYLQ6t"
   },
   "source": [
    "We can also draw thhe decision tree but this gets messy quickly:"
   ]
  },
  {
   "cell_type": "code",
   "execution_count": 51,
   "metadata": {
    "id": "fQMIxuh3LQ6t",
    "outputId": "87a6ed84-7839-4f54-c761-6046c42ce0d4"
   },
   "outputs": [
    {
     "data": {
      "text/plain": [
       "[Text(167.4, 181.2, 'career_WS <= 6.55\\nmse = 1.756\\nsamples = 1512\\nvalue = 13.838'),\n",
       " Text(83.7, 108.72, 'career_G <= 26.5\\nmse = 1.196\\nsamples = 694\\nvalue = 13.024'),\n",
       " Text(41.85, 36.23999999999998, 'mse = 1.244\\nsamples = 116\\nvalue = 12.111'),\n",
       " Text(125.55000000000001, 36.23999999999998, 'mse = 0.986\\nsamples = 578\\nvalue = 13.207'),\n",
       " Text(251.10000000000002, 108.72, 'career_PER <= 16.65\\nmse = 1.192\\nsamples = 818\\nvalue = 14.529'),\n",
       " Text(209.25, 36.23999999999998, 'mse = 1.07\\nsamples = 646\\nvalue = 14.332'),\n",
       " Text(292.95, 36.23999999999998, 'mse = 0.954\\nsamples = 172\\nvalue = 15.268')]"
      ]
     },
     "execution_count": 51,
     "metadata": {},
     "output_type": "execute_result"
    },
    {
     "data": {
      "image/png": "[encoded data removed]",
      "text/plain": [
       "<Figure size 432x288 with 1 Axes>"
      ]
     },
     "metadata": {
      "needs_background": "light"
     },
     "output_type": "display_data"
    }
   ],
   "source": [
    "tree.plot_tree(regr_1,feature_names=list(X.columns))"
   ]
  },
  {
   "cell_type": "code",
   "execution_count": 52,
   "metadata": {
    "id": "oVnrY0IiLQ6t",
    "outputId": "a49aeb15-6ee4-40f7-ee1b-86882caee950"
   },
   "outputs": [
    {
     "name": "stdout",
     "output_type": "stream",
     "text": [
      "left terminal node 181861.37499775478 : right terminal node 4273740.512560558\n"
     ]
    }
   ],
   "source": [
    "print(\"left terminal node\",np.exp(12.111),\":\",\"right terminal node\",np.exp(15.268))"
   ]
  },
  {
   "cell_type": "markdown",
   "metadata": {},
   "source": [
    "# feature importances"
   ]
  },
  {
   "cell_type": "markdown",
   "metadata": {
    "id": "WZKCJDWjLQ6u"
   },
   "source": [
    "Feature importances help us understand which variables are responsible for the largest reductions in $RSS$.  "
   ]
  },
  {
   "cell_type": "code",
   "execution_count": 53,
   "metadata": {
    "id": "2350PUjmLQ6u",
    "outputId": "a97881dd-0cbc-402b-a0b8-8c1f60982c26"
   },
   "outputs": [
    {
     "data": {
      "text/plain": [
       "array([0.00000000e+00, 2.63304833e-02, 9.88293952e-02, 1.12422910e-02,\n",
       "       7.48862537e-02, 7.69889861e-02, 7.70047066e-02, 7.23274817e-02,\n",
       "       5.53009329e-01, 9.37962616e-03, 1.44746402e-06])"
      ]
     },
     "execution_count": 53,
     "metadata": {},
     "output_type": "execute_result"
    }
   ],
   "source": [
    "regr_5.feature_importances_"
   ]
  },
  {
   "cell_type": "code",
   "execution_count": 54,
   "metadata": {
    "id": "PJA0ItP5LQ6u",
    "outputId": "0bd22177-6920-4176-d67d-6cfb51423cbd"
   },
   "outputs": [
    {
     "data": {
      "text/plain": [
       "(-1, 11)"
      ]
     },
     "execution_count": 54,
     "metadata": {},
     "output_type": "execute_result"
    },
    {
     "data": {
      "image/png": "[encoded data removed]",
      "text/plain": [
       "<Figure size 432x288 with 1 Axes>"
      ]
     },
     "metadata": {
      "needs_background": "light"
     },
     "output_type": "display_data"
    }
   ],
   "source": [
    "nfeat=X.shape[1]\n",
    "plt.barh(np.arange(nfeat),regr_5.feature_importances_,align='center')\n",
    "plt.yticks(np.arange(nfeat),list(X.columns))\n",
    "plt.ylim(-1,nfeat)"
   ]
  },
  {
   "cell_type": "markdown",
   "metadata": {
    "id": "f1TvTV_lLQ6v"
   },
   "source": [
    "How to control for overfitting? One option is to set max depth or stop adding branches if $RSS$ reduction isn't large enough. However, this can miss good cuts coming later on."
   ]
  },
  {
   "cell_type": "markdown",
   "metadata": {
    "id": "f-qDMIx5LQ6v"
   },
   "source": [
    "Preferred: Build a deep tree and prune it back."
   ]
  },
  {
   "cell_type": "markdown",
   "metadata": {
    "id": "ddd2JgjtLQ6v"
   },
   "source": [
    "One method to do this is called *cost complexity pruning*. It borrows an idea from Ridge Regression."
   ]
  },
  {
   "cell_type": "markdown",
   "metadata": {
    "id": "L3H5vEdYLQ6v"
   },
   "source": [
    "Given a deep tree $T$, and parameter $\\alpha$ find a subtree that minimizes:\n",
    "$$\n",
    "\\sum_{m=1}^{|T|}\\sum_{x_i\\in R_m}(y_i-\\hat{y}_{R_m})^2 +\\alpha|T|\n",
    "$$\n",
    "where $|T|$ is the number of terminal nodes in teh tree."
   ]
  },
  {
   "cell_type": "markdown",
   "metadata": {
    "id": "sGV_RLnLLQ6v"
   },
   "source": [
    "So, add a penalty for complex (deep) trees."
   ]
  },
  {
   "cell_type": "markdown",
   "metadata": {
    "id": "9_a6HsB1LQ6v"
   },
   "source": [
    "Then we can use cross validation to select the optimal $\\alpha$."
   ]
  },
  {
   "cell_type": "code",
   "execution_count": 55,
   "metadata": {
    "id": "f46EJGLzLQ6v"
   },
   "outputs": [],
   "source": [
    "path = full_tree.cost_complexity_pruning_path(X_train, y_train)\n",
    "ccp_alphas, impurities = path.ccp_alphas, path.impurities"
   ]
  },
  {
   "cell_type": "code",
   "execution_count": 56,
   "metadata": {
    "id": "3qMztwnlLQ6v",
    "outputId": "ddd77d2a-b7a5-419d-8241-ba74fa2a540e"
   },
   "outputs": [
    {
     "data": {
      "text/plain": [
       "array([0.00000000e+00, 4.62059550e-12, 3.48664636e-11, ...,\n",
       "       7.67129990e-02, 7.88670246e-02, 5.62379702e-01])"
      ]
     },
     "execution_count": 56,
     "metadata": {},
     "output_type": "execute_result"
    }
   ],
   "source": [
    "ccp_alphas"
   ]
  },
  {
   "cell_type": "code",
   "execution_count": 57,
   "metadata": {
    "id": "8I-BRg_cLQ6v",
    "outputId": "feef3fc7-c61c-4d4e-8adf-d3358606648c"
   },
   "outputs": [
    {
     "data": {
      "text/plain": [
       "Text(0.5, 1.0, 'Total MSE vs effective alpha for training set')"
      ]
     },
     "execution_count": 57,
     "metadata": {},
     "output_type": "execute_result"
    },
    {
     "data": {
      "image/png": "[encoded data removed]",
      "text/plain": [
       "<Figure size 432x288 with 1 Axes>"
      ]
     },
     "metadata": {
      "needs_background": "light"
     },
     "output_type": "display_data"
    }
   ],
   "source": [
    "fig, ax = plt.subplots()\n",
    "ax.plot(ccp_alphas[:-1], impurities[:-1], marker='o', drawstyle=\"steps-post\")\n",
    "ax.set_xlabel(\"effective alpha\")\n",
    "ax.set_ylabel(\"total MSE of leaves\")\n",
    "ax.set_title(\"Total MSE vs effective alpha for training set\")"
   ]
  },
  {
   "cell_type": "code",
   "execution_count": 58,
   "metadata": {
    "id": "2yfDw-S0LQ6w",
    "outputId": "b3d28745-893d-4ebd-b992-26a868529f2b"
   },
   "outputs": [
    {
     "data": {
      "text/plain": [
       "1417"
      ]
     },
     "execution_count": 58,
     "metadata": {},
     "output_type": "execute_result"
    }
   ],
   "source": [
    "len(ccp_alphas)"
   ]
  },
  {
   "cell_type": "code",
   "execution_count": 59,
   "metadata": {
    "id": "Db10K4rvLQ6w",
    "outputId": "d18f82a8-4793-40ef-892a-334c02bb25a3"
   },
   "outputs": [
    {
     "name": "stdout",
     "output_type": "stream",
     "text": [
      "Number of nodes in the last tree is: 1 with ccp_alpha: 0.562379701662179\n"
     ]
    }
   ],
   "source": [
    "regs = []\n",
    "for ccp_alpha in ccp_alphas:\n",
    "    reg = DecisionTreeRegressor(random_state=0, ccp_alpha=ccp_alpha)\n",
    "    reg.fit(X_train, y_train)\n",
    "    regs.append(reg)\n",
    "print(\"Number of nodes in the last tree is: {} with ccp_alpha: {}\".format(\n",
    "      regs[-1].tree_.node_count, ccp_alphas[-1]))"
   ]
  },
  {
   "cell_type": "code",
   "execution_count": 60,
   "metadata": {
    "id": "470JDY2ELQ6w"
   },
   "outputs": [],
   "source": [
    "regs = regs[:-1]\n",
    "ccp_alphas = ccp_alphas[:-1]"
   ]
  },
  {
   "cell_type": "code",
   "execution_count": 61,
   "metadata": {
    "id": "6HrUs0VTLQ6w",
    "outputId": "9d9e1d9a-70d2-42d7-8324-357b428f01f2"
   },
   "outputs": [
    {
     "data": {
      "text/plain": [
       "1416"
      ]
     },
     "execution_count": 61,
     "metadata": {},
     "output_type": "execute_result"
    }
   ],
   "source": [
    "len(regs)"
   ]
  },
  {
   "cell_type": "code",
   "execution_count": 66,
   "metadata": {
    "id": "sMP31IQ2LQ6w",
    "outputId": "221efa5f-c005-4838-fb83-4c582f272d40"
   },
   "outputs": [
    {
     "data": {
      "text/plain": [
       "array([0.00000000e+00, 4.62059550e-12, 3.48664636e-11])"
      ]
     },
     "execution_count": 66,
     "metadata": {},
     "output_type": "execute_result"
    }
   ],
   "source": [
    "ccp_alphas[0:3]"
   ]
  },
  {
   "cell_type": "code",
   "execution_count": 67,
   "metadata": {
    "id": "TEHHKgW7LQ6w",
    "outputId": "9149d28b-beb0-46ab-c7a6-2c138b4cbec0"
   },
   "outputs": [
    {
     "data": {
      "text/plain": [
       "1416"
      ]
     },
     "execution_count": 67,
     "metadata": {},
     "output_type": "execute_result"
    }
   ],
   "source": [
    "len(ccp_alphas)"
   ]
  },
  {
   "cell_type": "code",
   "execution_count": 68,
   "metadata": {
    "id": "9S5xNrCGLQ6x"
   },
   "outputs": [],
   "source": [
    "node_counts = [reg.tree_.node_count for reg in regs]"
   ]
  },
  {
   "cell_type": "code",
   "execution_count": 69,
   "metadata": {
    "id": "NvhWnpmXLQ6x",
    "outputId": "3fd5e367-e744-4f8f-ec5c-3288c8d74449"
   },
   "outputs": [
    {
     "data": {
      "text/plain": [
       "1416"
      ]
     },
     "execution_count": 69,
     "metadata": {},
     "output_type": "execute_result"
    }
   ],
   "source": [
    "len(node_counts)"
   ]
  },
  {
   "cell_type": "code",
   "execution_count": 70,
   "metadata": {
    "id": "qRWUC25JLQ6x",
    "outputId": "23954b27-b422-4555-fff6-9fc8b69a9ada"
   },
   "outputs": [
    {
     "data": {
      "image/png": "[encoded data removed]",
      "text/plain": [
       "<Figure size 432x288 with 2 Axes>"
      ]
     },
     "metadata": {
      "needs_background": "light"
     },
     "output_type": "display_data"
    }
   ],
   "source": [
    "node_counts = [reg.tree_.node_count for reg in regs]\n",
    "depth = [reg.tree_.max_depth for reg in regs]\n",
    "fig, ax = plt.subplots(2, 1)\n",
    "ax[0].plot(ccp_alphas, node_counts, marker='o', drawstyle=\"steps-post\")\n",
    "ax[0].set_xlabel(\"alpha\")\n",
    "ax[0].set_ylabel(\"number of nodes\")\n",
    "ax[0].set_title(\"Number of nodes vs alpha\")\n",
    "ax[1].plot(ccp_alphas, depth, marker='o', drawstyle=\"steps-post\")\n",
    "ax[1].set_xlabel(\"alpha\")\n",
    "ax[1].set_ylabel(\"depth of tree\")\n",
    "ax[1].set_title(\"Depth vs alpha\")\n",
    "fig.tight_layout()"
   ]
  },
  {
   "cell_type": "code",
   "execution_count": 71,
   "metadata": {
    "id": "T9ixevixLQ6x",
    "outputId": "d7d6ec62-c2dd-4e90-a8f6-cbf5d9011a9e"
   },
   "outputs": [
    {
     "data": {
      "image/png": "[encoded data removed]",
      "text/plain": [
       "<Figure size 432x288 with 1 Axes>"
      ]
     },
     "metadata": {
      "needs_background": "light"
     },
     "output_type": "display_data"
    }
   ],
   "source": [
    "train_scores = [reg.score(X_train, y_train) for reg in regs]\n",
    "test_scores = [reg.score(X_test, y_test) for reg in regs]\n",
    "\n",
    "fig, ax = plt.subplots()\n",
    "ax.set_xlabel(\"alpha\")\n",
    "ax.set_ylabel(\"R^2\")\n",
    "ax.set_title(\"R^2 vs alpha for training and testing sets\")\n",
    "ax.plot(ccp_alphas, train_scores, marker='o', label=\"train\",\n",
    "        drawstyle=\"steps-post\")\n",
    "ax.plot(ccp_alphas, test_scores, marker='o', label=\"test\",\n",
    "        drawstyle=\"steps-post\")\n",
    "ax.legend()\n",
    "plt.show()"
   ]
  },
  {
   "cell_type": "code",
   "execution_count": 72,
   "metadata": {
    "id": "gZDM9LnzLQ6x",
    "outputId": "cb516b1a-35ad-42ff-d512-e652910d9014"
   },
   "outputs": [
    {
     "data": {
      "image/png": "[encoded data removed]",
      "text/plain": [
       "<Figure size 432x288 with 1 Axes>"
      ]
     },
     "metadata": {
      "needs_background": "light"
     },
     "output_type": "display_data"
    }
   ],
   "source": [
    "train_scores = [mean_squared_error(reg.predict(X_train), y_train) for reg in regs]\n",
    "test_scores = [mean_squared_error(reg.predict(X_test),y_test) for reg in regs]\n",
    "\n",
    "fig, ax = plt.subplots()\n",
    "ax.set_xlabel(\"alpha\")\n",
    "ax.set_ylabel(\"MSE\")\n",
    "ax.set_title(\"MSE vs alpha for training and testing sets\")\n",
    "ax.plot(ccp_alphas, train_scores, marker='o', label=\"train\",\n",
    "        drawstyle=\"steps-post\")\n",
    "ax.plot(ccp_alphas, test_scores, marker='o', label=\"test\",\n",
    "        drawstyle=\"steps-post\")\n",
    "ax.legend()\n",
    "plt.show()"
   ]
  },
  {
   "cell_type": "code",
   "execution_count": 73,
   "metadata": {
    "id": "C1eFA7-ZLQ6y",
    "outputId": "cbecc548-de0f-4fd7-b367-985a153bc685"
   },
   "outputs": [
    {
     "data": {
      "text/plain": [
       "array([0.00000000e+00, 4.62059550e-12, 3.48664636e-11, 6.39214208e-11,\n",
       "       6.80439409e-11, 8.65987493e-11, 3.60857794e-10, 3.73271239e-10,\n",
       "       4.72637482e-10, 4.94181815e-10])"
      ]
     },
     "execution_count": 73,
     "metadata": {},
     "output_type": "execute_result"
    }
   ],
   "source": [
    "ccp_alphas[0:10]"
   ]
  },
  {
   "cell_type": "markdown",
   "metadata": {
    "id": "D0qXnMOULQ6y"
   },
   "source": [
    "This takes a while-- be careful!"
   ]
  },
  {
   "cell_type": "code",
   "execution_count": 74,
   "metadata": {
    "id": "3RJ7tb3WLQ6y"
   },
   "outputs": [],
   "source": [
    "cvres=[]\n",
    "for a in ccp_alphas:\n",
    "    reg = DecisionTreeRegressor(random_state=0, ccp_alpha= a)\n",
    "    cvreg = cross_validate(reg, X_train, y_train, cv=5, scoring='neg_mean_squared_error')\n",
    "    cvres.append(cvreg['test_score'].mean())"
   ]
  },
  {
   "cell_type": "code",
   "execution_count": 75,
   "metadata": {
    "id": "RMMUf6PyLQ6y",
    "outputId": "f4d1a5ae-a0db-490b-8dfc-ea75913cdb21"
   },
   "outputs": [
    {
     "data": {
      "text/plain": [
       "1402"
      ]
     },
     "execution_count": 75,
     "metadata": {},
     "output_type": "execute_result"
    }
   ],
   "source": [
    "np.argmax(cvres)"
   ]
  },
  {
   "cell_type": "code",
   "execution_count": 76,
   "metadata": {
    "id": "hqNeSBgyLQ6y"
   },
   "outputs": [],
   "source": [
    "regO = DecisionTreeRegressor(random_state=0, ccp_alpha=ccp_alphas[1402]).fit(X_train,y_train)"
   ]
  },
  {
   "cell_type": "code",
   "execution_count": 79,
   "metadata": {
    "id": "8ItomeeDLQ6y",
    "outputId": "59cddcca-95df-401b-c44d-77e56048be85"
   },
   "outputs": [
    {
     "data": {
      "text/plain": [
       "0.010770454182036628"
      ]
     },
     "execution_count": 79,
     "metadata": {},
     "output_type": "execute_result"
    }
   ],
   "source": [
    "ccp_alphas[1402]"
   ]
  },
  {
   "cell_type": "code",
   "execution_count": 80,
   "metadata": {
    "id": "9PxGXDqVLQ6y",
    "outputId": "ca272f70-e8f0-439a-9c37-42a2b142ba69"
   },
   "outputs": [
    {
     "data": {
      "text/plain": [
       "7"
      ]
     },
     "execution_count": 80,
     "metadata": {},
     "output_type": "execute_result"
    }
   ],
   "source": [
    "regO.get_depth()"
   ]
  },
  {
   "cell_type": "code",
   "execution_count": 81,
   "metadata": {
    "id": "0PNLHwfJLQ6z",
    "outputId": "1c10a45e-3de1-4a6d-96e4-5ea9b1fe9498"
   },
   "outputs": [
    {
     "data": {
      "text/plain": [
       "0.47120177155647147"
      ]
     },
     "execution_count": 81,
     "metadata": {},
     "output_type": "execute_result"
    }
   ],
   "source": [
    "regO.score(X_test,y_test)"
   ]
  },
  {
   "cell_type": "code",
   "execution_count": 82,
   "metadata": {
    "id": "ixWfUTw8LQ6z",
    "outputId": "7f495e63-b9a3-4df3-828b-7231ca4f62a3"
   },
   "outputs": [
    {
     "data": {
      "text/plain": [
       "0.147722212133779"
      ]
     },
     "execution_count": 82,
     "metadata": {},
     "output_type": "execute_result"
    }
   ],
   "source": [
    "full_tree.score(X_test,y_test)"
   ]
  },
  {
   "cell_type": "code",
   "execution_count": 83,
   "metadata": {
    "id": "KompkMkOLQ6z",
    "outputId": "9ce2619f-a7d7-4bf5-e5c2-8c9886b73b47"
   },
   "outputs": [
    {
     "data": {
      "text/plain": [
       "0.8761443762274823"
      ]
     },
     "execution_count": 83,
     "metadata": {},
     "output_type": "execute_result"
    }
   ],
   "source": [
    "mean_squared_error(regO.predict(X_test),y_test)"
   ]
  },
  {
   "cell_type": "code",
   "execution_count": 84,
   "metadata": {
    "id": "zPpu0UQ_LQ6z",
    "outputId": "6f325da6-dc23-468e-b31e-3f9986d2f8eb"
   },
   "outputs": [
    {
     "data": {
      "text/plain": [
       "1.4121045621133965"
      ]
     },
     "execution_count": 84,
     "metadata": {},
     "output_type": "execute_result"
    }
   ],
   "source": [
    "mean_squared_error(full_tree.predict(X_test),y_test)"
   ]
  },
  {
   "cell_type": "markdown",
   "metadata": {
    "id": "ZYPW-2KyLQ6z"
   },
   "source": [
    "#### Decision Tree Classifiers"
   ]
  },
  {
   "cell_type": "markdown",
   "metadata": {
    "id": "kMh-vTTALQ6z"
   },
   "source": [
    "Very similar! The only real difference is that we can't use $RSS$ or $MSE$ to determine the cut points. "
   ]
  },
  {
   "cell_type": "markdown",
   "metadata": {
    "id": "29Cb6aPXLQ6z"
   },
   "source": [
    "Essentially, we need a definition of error in a rectangular region. We will assign all points in $R_i$ to the most common class in $R_i$. So, it would seem natural to use the fraction of observations *not* in that most common class. "
   ]
  },
  {
   "cell_type": "markdown",
   "metadata": {
    "id": "rfyaxVXKLQ60"
   },
   "source": [
    "$$\n",
    "1-\\max_{k}(\\hat{p}_{mk})\n",
    "$$"
   ]
  },
  {
   "cell_type": "markdown",
   "metadata": {
    "id": "NKA4pTBALQ60"
   },
   "source": [
    "This turns out to be not quite sensitive enough to decide cuts. Rather we use the Gini-index:"
   ]
  },
  {
   "cell_type": "markdown",
   "metadata": {
    "id": "ewL_CUH2LQ60"
   },
   "source": [
    "$$\n",
    "G=\\sum_{k} \\hat{p}_{mk}(1-\\hat{p}_{mk})\n",
    "$$"
   ]
  },
  {
   "cell_type": "markdown",
   "metadata": {
    "id": "mdbLCjd9LQ60"
   },
   "source": [
    "G is small when all classes are near $0$ or $1$."
   ]
  },
  {
   "cell_type": "code",
   "execution_count": null,
   "metadata": {
    "id": "ImH_gvDJLQ60"
   },
   "outputs": [],
   "source": []
  },
  {
   "cell_type": "code",
   "execution_count": 85,
   "metadata": {
    "id": "AFv1VR9DLQ60",
    "outputId": "1663a6bd-1e41-4cde-d207-fb4968362abc"
   },
   "outputs": [
    {
     "data": {
      "image/png": "[encoded data removed]",
      "text/plain": [
       "<Figure size 432x288 with 1 Axes>"
      ]
     },
     "metadata": {
      "needs_background": "light"
     },
     "output_type": "display_data"
    }
   ],
   "source": [
    "# Plot the results\n",
    "sns.scatterplot(x='career_PTS',y='logG',data=ex_data)\n",
    "plt.show()"
   ]
  },
  {
   "cell_type": "code",
   "execution_count": null,
   "metadata": {},
   "outputs": [],
   "source": []
  },
  {
   "cell_type": "code",
   "execution_count": 86,
   "metadata": {},
   "outputs": [
    {
     "data": {
      "text/plain": [
       "1402"
      ]
     },
     "execution_count": 86,
     "metadata": {},
     "output_type": "execute_result"
    }
   ],
   "source": [
    "np.argmax(cvres)"
   ]
  },
  {
   "cell_type": "code",
   "execution_count": 87,
   "metadata": {},
   "outputs": [
    {
     "data": {
      "text/plain": [
       "0.005828859350107134"
      ]
     },
     "execution_count": 87,
     "metadata": {},
     "output_type": "execute_result"
    }
   ],
   "source": [
    "optalp=ccp_alphas[1393]\n",
    "optalp"
   ]
  },
  {
   "cell_type": "code",
   "execution_count": 88,
   "metadata": {},
   "outputs": [],
   "source": [
    "regO = DecisionTreeRegressor(random_state=0, ccp_alpha=optalp).fit(X_train,y_train)"
   ]
  },
  {
   "cell_type": "code",
   "execution_count": 89,
   "metadata": {},
   "outputs": [
    {
     "data": {
      "text/plain": [
       "9"
      ]
     },
     "execution_count": 89,
     "metadata": {},
     "output_type": "execute_result"
    }
   ],
   "source": [
    "regO.get_depth()"
   ]
  },
  {
   "cell_type": "code",
   "execution_count": 90,
   "metadata": {},
   "outputs": [
    {
     "name": "stdout",
     "output_type": "stream",
     "text": [
      "The pruned tree has R-squared score 0.4942052386385605 while the full tree has R-squared 0.147722212133779\n"
     ]
    }
   ],
   "source": [
    "print(\"The pruned tree has R-squared score {} while the full tree has R-squared {}\".format(regO.score(X_test,y_test),full_tree.score(X_test,y_test)))"
   ]
  },
  {
   "cell_type": "code",
   "execution_count": 91,
   "metadata": {},
   "outputs": [
    {
     "name": "stdout",
     "output_type": "stream",
     "text": [
      "The pruned tree has R-squared score 0.8380308629182018 while the full tree has R-squared 1.4121045621133965\n"
     ]
    }
   ],
   "source": [
    "print(\"The pruned tree has R-squared score {} while the full tree has R-squared {}\".format(mean_squared_error(regO.predict(X_test),y_test),mean_squared_error(full_tree.predict(X_test),y_test)))"
   ]
  },
  {
   "cell_type": "code",
   "execution_count": 92,
   "metadata": {},
   "outputs": [
    {
     "data": {
      "text/plain": [
       "Text(0, 0.5, 'predicted log-salary')"
      ]
     },
     "execution_count": 92,
     "metadata": {},
     "output_type": "execute_result"
    },
    {
     "data": {
      "image/png": "[encoded data removed]",
      "text/plain": [
       "<Figure size 432x288 with 1 Axes>"
      ]
     },
     "metadata": {
      "needs_background": "light"
     },
     "output_type": "display_data"
    }
   ],
   "source": [
    "plt.scatter(y_test,regO.predict(X_test))\n",
    "plt.xlabel(\"acutal log-salary\")\n",
    "plt.ylabel(\"predicted log-salary\")"
   ]
  },
  {
   "cell_type": "markdown",
   "metadata": {},
   "source": [
    "Are we doing better than plain old linear regression?"
   ]
  },
  {
   "cell_type": "code",
   "execution_count": 93,
   "metadata": {},
   "outputs": [],
   "source": [
    "from sklearn.linear_model import LinearRegression"
   ]
  },
  {
   "cell_type": "code",
   "execution_count": 94,
   "metadata": {},
   "outputs": [],
   "source": [
    "ols=LinearRegression().fit(X_test,y_test)"
   ]
  },
  {
   "cell_type": "code",
   "execution_count": 95,
   "metadata": {},
   "outputs": [
    {
     "data": {
      "text/plain": [
       "0.7503992258578253"
      ]
     },
     "execution_count": 95,
     "metadata": {},
     "output_type": "execute_result"
    }
   ],
   "source": [
    "mean_squared_error(ols.predict(X_test),y_test)"
   ]
  },
  {
   "cell_type": "code",
   "execution_count": 96,
   "metadata": {},
   "outputs": [
    {
     "data": {
      "text/plain": [
       "0.547095442228821"
      ]
     },
     "execution_count": 96,
     "metadata": {},
     "output_type": "execute_result"
    }
   ],
   "source": [
    "ols.score(X_test,y_test)"
   ]
  },
  {
   "cell_type": "markdown",
   "metadata": {},
   "source": [
    "Still not better than OLS regression!"
   ]
  },
  {
   "cell_type": "code",
   "execution_count": 97,
   "metadata": {},
   "outputs": [],
   "source": [
    "from sklearn.linear_model import Ridge\n",
    "from sklearn.linear_model import RidgeCV"
   ]
  },
  {
   "cell_type": "code",
   "execution_count": 98,
   "metadata": {},
   "outputs": [],
   "source": [
    "alphas = 10**np.linspace(5,-3,100)"
   ]
  },
  {
   "cell_type": "code",
   "execution_count": 99,
   "metadata": {},
   "outputs": [
    {
     "data": {
      "text/plain": [
       "0.0021049041445120177"
      ]
     },
     "execution_count": 99,
     "metadata": {},
     "output_type": "execute_result"
    }
   ],
   "source": [
    "ridgecv = RidgeCV(alphas = alphas, scoring = 'neg_mean_squared_error', normalize = True)\n",
    "ridgecv.fit(X_train, y_train)\n",
    "ridgecv.alpha_"
   ]
  },
  {
   "cell_type": "code",
   "execution_count": 100,
   "metadata": {},
   "outputs": [
    {
     "data": {
      "text/plain": [
       "Ridge(alpha=0.0021049041445120177, normalize=True)"
      ]
     },
     "execution_count": 100,
     "metadata": {},
     "output_type": "execute_result"
    }
   ],
   "source": [
    "ridgemod = Ridge(alpha = ridgecv.alpha_, normalize = True)\n",
    "ridgemod.fit(X_train, y_train)"
   ]
  },
  {
   "cell_type": "code",
   "execution_count": 101,
   "metadata": {},
   "outputs": [
    {
     "data": {
      "text/plain": [
       "0.7916803261452642"
      ]
     },
     "execution_count": 101,
     "metadata": {},
     "output_type": "execute_result"
    }
   ],
   "source": [
    "y_pred=ridgemod.predict(X_test)\n",
    "mean_squared_error(y_test, y_pred)"
   ]
  },
  {
   "cell_type": "code",
   "execution_count": 102,
   "metadata": {},
   "outputs": [
    {
     "data": {
      "text/plain": [
       "0.522180173361616"
      ]
     },
     "execution_count": 102,
     "metadata": {},
     "output_type": "execute_result"
    }
   ],
   "source": [
    "ridgemod.score(X_test,y_test)"
   ]
  },
  {
   "cell_type": "markdown",
   "metadata": {},
   "source": [
    "So OLS outperforms Ridge here."
   ]
  },
  {
   "cell_type": "markdown",
   "metadata": {},
   "source": [
    "# Bagging"
   ]
  },
  {
   "cell_type": "markdown",
   "metadata": {},
   "source": [
    "Idea: Create many decision trees (grown deep: no pruning). We know they will overfit-- i.e, will have high variance."
   ]
  },
  {
   "cell_type": "markdown",
   "metadata": {},
   "source": [
    "Reduce variance by averaging! People's heights will have much more variation then average heights of groups of 10 people."
   ]
  },
  {
   "cell_type": "markdown",
   "metadata": {},
   "source": [
    "If a random variable $X$ has variance $\\sigma^2$ then the distribution of the sample mean $\\overline{X}$ has variance $\\frac{\\sigma^2}{\\sqrt{n}}$ where $n$ is sample size."
   ]
  },
  {
   "cell_type": "markdown",
   "metadata": {},
   "source": [
    "Problem: there's only one training set-- so how do we fit different trees to average? "
   ]
  },
  {
   "cell_type": "markdown",
   "metadata": {},
   "source": [
    "The bootstrap. Sample the training observations with replacement and fit a decision tree on the resampled data. Each tree only looks at some of the observations."
   ]
  },
  {
   "cell_type": "markdown",
   "metadata": {},
   "source": [
    "If the bootstrapped samples are labeled:\n",
    "$$\n",
    "1,2,3,\\ldots, B,\n",
    "$$\n",
    "and the corresponding (deep) trees are \n",
    "$$\n",
    "f^*_1,f^*_2,\\ldots,f^*_B,\n",
    "$$\n",
    "then for a test observation $x$ we predict:\n",
    "$$\n",
    "f^{\\text{avg}}(x)=\\frac{1}{B}\\sum_{i=1}^Bf^*_i(x)\n",
    "$$\n",
    "and where the * reminds us that each tree is fit on a bootstrap sample of the original training data set."
   ]
  },
  {
   "cell_type": "code",
   "execution_count": 103,
   "metadata": {},
   "outputs": [],
   "source": [
    "from sklearn.ensemble import BaggingRegressor"
   ]
  },
  {
   "cell_type": "code",
   "execution_count": 104,
   "metadata": {},
   "outputs": [],
   "source": [
    "regr = BaggingRegressor(base_estimator=DecisionTreeRegressor(),n_estimators=100,\n",
    "                        oob_score=True,\n",
    "                        random_state=0).fit(X_train, y_train)"
   ]
  },
  {
   "cell_type": "code",
   "execution_count": 105,
   "metadata": {},
   "outputs": [
    {
     "name": "stdout",
     "output_type": "stream",
     "text": [
      "R^2 is 0.5792437376123709 : : MSE is 0.6971340167656865\n"
     ]
    }
   ],
   "source": [
    "print(\"R^2 is {}\".format(regr.score(X_test,y_test)),\":\",\":\", \"MSE is {}\".format(mean_squared_error(regr.predict(X_test),y_test)))"
   ]
  },
  {
   "cell_type": "markdown",
   "metadata": {},
   "source": [
    "Improvement! OLS $R^2$ was 0.745."
   ]
  },
  {
   "cell_type": "markdown",
   "metadata": {},
   "source": [
    "The bootstrap gives us a way to estimate test-set error without the actual test set. Since the bootstrap samples the training data for each tree, some observations won't be used in the building of the $i$-th tree. "
   ]
  },
  {
   "cell_type": "markdown",
   "metadata": {},
   "source": [
    "Thhese observations are called *out-of-bag* observations (OOB) and we can use them as de facto test observations for that tree. In practice, for an observation $x$ we can average the prediction over all trees that leave $x$ OOB. "
   ]
  },
  {
   "cell_type": "markdown",
   "metadata": {},
   "source": [
    "Warning: We should still use a test set. But, this could be useful, say, to determine the optimal number of trees to use."
   ]
  },
  {
   "cell_type": "code",
   "execution_count": 106,
   "metadata": {},
   "outputs": [
    {
     "data": {
      "text/plain": [
       "0.5730093794202271"
      ]
     },
     "execution_count": 106,
     "metadata": {},
     "output_type": "execute_result"
    }
   ],
   "source": [
    "regr.oob_score_"
   ]
  },
  {
   "cell_type": "code",
   "execution_count": 107,
   "metadata": {},
   "outputs": [],
   "source": [
    "num_trees=np.linspace(50,500,10)"
   ]
  },
  {
   "cell_type": "code",
   "execution_count": 108,
   "metadata": {},
   "outputs": [],
   "source": [
    "oob_res=[]\n",
    "for trs in num_trees:\n",
    "    res = BaggingRegressor(base_estimator=DecisionTreeRegressor(),n_estimators=np.int(trs),oob_score=True,random_state=0).fit(X_train, y_train)\n",
    "    oob_res.append(res.oob_score_)"
   ]
  },
  {
   "cell_type": "code",
   "execution_count": 112,
   "metadata": {},
   "outputs": [
    {
     "data": {
      "text/plain": [
       "[<matplotlib.lines.Line2D at 0x7fb5436bdd00>]"
      ]
     },
     "execution_count": 112,
     "metadata": {},
     "output_type": "execute_result"
    },
    {
     "data": {
      "image/png": "[encoded data removed]",
      "text/plain": [
       "<Figure size 432x288 with 1 Axes>"
      ]
     },
     "metadata": {
      "needs_background": "light"
     },
     "output_type": "display_data"
    }
   ],
   "source": [
    "plt.plot(num_trees,oob_res)"
   ]
  },
  {
   "cell_type": "markdown",
   "metadata": {},
   "source": [
    "Looks like we peak around 400 trees (though only very slightly better than 100 trees)."
   ]
  },
  {
   "cell_type": "code",
   "execution_count": 113,
   "metadata": {},
   "outputs": [],
   "source": [
    "regr = BaggingRegressor(base_estimator=DecisionTreeRegressor(),\n",
    "                        n_estimators=400,\n",
    "                        random_state=0).fit(X_train, y_train)"
   ]
  },
  {
   "cell_type": "code",
   "execution_count": 114,
   "metadata": {},
   "outputs": [
    {
     "data": {
      "text/plain": [
       "0.583215815860534"
      ]
     },
     "execution_count": 114,
     "metadata": {},
     "output_type": "execute_result"
    }
   ],
   "source": [
    "regr.score(X_test,y_test)"
   ]
  },
  {
   "cell_type": "markdown",
   "metadata": {},
   "source": [
    "Test $R^2$ only slightly lower than the OOB score above."
   ]
  },
  {
   "cell_type": "markdown",
   "metadata": {},
   "source": [
    "# Random Forests:"
   ]
  },
  {
   "cell_type": "markdown",
   "metadata": {},
   "source": [
    "Another approach to aggregating trees built on bootstrap samples of the data (like bagging), but with a small tweak. "
   ]
  },
  {
   "cell_type": "markdown",
   "metadata": {},
   "source": [
    "Each time we make a split in a tree, we do so using a random sample of the available features. Usually we choose $\\approx \\sqrt{p}$ features."
   ]
  },
  {
   "cell_type": "markdown",
   "metadata": {},
   "source": [
    "Why? Decorrelate the trees and allow weaker signals to get through. The same featires won't dominate all the trees."
   ]
  },
  {
   "cell_type": "markdown",
   "metadata": {},
   "source": [
    "Not guaranteed to improve over nbagging but can be a big help if we have many correlated features."
   ]
  },
  {
   "cell_type": "code",
   "execution_count": 115,
   "metadata": {},
   "outputs": [],
   "source": [
    "from sklearn.ensemble import RandomForestRegressor"
   ]
  },
  {
   "cell_type": "code",
   "execution_count": 116,
   "metadata": {},
   "outputs": [],
   "source": [
    "rf = RandomForestRegressor(n_estimators=400,max_features='sqrt',\n",
    "                           random_state=0).fit(X_train,y_train)"
   ]
  },
  {
   "cell_type": "code",
   "execution_count": 117,
   "metadata": {},
   "outputs": [
    {
     "data": {
      "text/plain": [
       "0.5808183621436971"
      ]
     },
     "execution_count": 117,
     "metadata": {},
     "output_type": "execute_result"
    }
   ],
   "source": [
    "rf.score(X_test,y_test)"
   ]
  },
  {
   "cell_type": "markdown",
   "metadata": {},
   "source": [
    "Very similar to straight bagging here (more examples in the sandbox). Might want to look at feature importances though bagging (and RFs) are not easily interpreted (like a single tree is)."
   ]
  },
  {
   "cell_type": "code",
   "execution_count": 118,
   "metadata": {},
   "outputs": [
    {
     "data": {
      "text/plain": [
       "(-1, 11)"
      ]
     },
     "execution_count": 118,
     "metadata": {},
     "output_type": "execute_result"
    },
    {
     "data": {
      "image/png": "[encoded data removed]",
      "text/plain": [
       "<Figure size 432x288 with 1 Axes>"
      ]
     },
     "metadata": {
      "needs_background": "light"
     },
     "output_type": "display_data"
    }
   ],
   "source": [
    "nfeat=X.shape[1]\n",
    "plt.barh(np.arange(nfeat),rf.feature_importances_,align='center')\n",
    "plt.yticks(np.arange(nfeat),list(X.columns))\n",
    "plt.ylim(-1,nfeat)"
   ]
  },
  {
   "cell_type": "markdown",
   "metadata": {},
   "source": [
    "# Boosting"
   ]
  },
  {
   "cell_type": "markdown",
   "metadata": {},
   "source": [
    "Again -- use multiple trees to attack the problem. BUT, trees are grown sequentially and are kept small (prevent overfitting)."
   ]
  },
  {
   "cell_type": "markdown",
   "metadata": {},
   "source": [
    "Start with a single tree $\\hat{f_1}$. "
   ]
  },
  {
   "cell_type": "markdown",
   "metadata": {},
   "source": [
    "Then, build a new tree to improve on the prediction of $\\hat{f_1}$ by fitting the residuals\n",
    "$$\n",
    "y_i-\\hat{f_1}(x_i).\n",
    "$$\n",
    "We get a new model $\\hat{f_2}$ which we add to the old model:\n",
    "$$\n",
    "\\hat{f_1}+\\lambda \\hat{f_2}\n",
    "$$"
   ]
  },
  {
   "cell_type": "markdown",
   "metadata": {},
   "source": [
    "$\\lambda$ is a parameter called the learning rate. It's a small-ish number (0.1, 0.01, 0.001) that slows down the learning process allowing more trees to attack the residuals."
   ]
  },
  {
   "cell_type": "markdown",
   "metadata": {},
   "source": [
    "Each small tree is a weak learner but they combine into a strong learner."
   ]
  },
  {
   "cell_type": "markdown",
   "metadata": {},
   "source": [
    "$$\n",
    "\\hat{f}(x) = \\sum_{i=1}^B\\lambda \\hat{f_i}(x)\n",
    "$$"
   ]
  },
  {
   "cell_type": "code",
   "execution_count": 119,
   "metadata": {},
   "outputs": [],
   "source": [
    "from sklearn.ensemble import GradientBoostingRegressor"
   ]
  },
  {
   "cell_type": "code",
   "execution_count": 120,
   "metadata": {},
   "outputs": [],
   "source": [
    "breg = GradientBoostingRegressor(random_state=0,learning_rate=0.1,n_estimators=500,max_depth=2).fit(X_train,y_train)"
   ]
  },
  {
   "cell_type": "code",
   "execution_count": 121,
   "metadata": {},
   "outputs": [
    {
     "data": {
      "text/plain": [
       "0.5601315311679087"
      ]
     },
     "execution_count": 121,
     "metadata": {},
     "output_type": "execute_result"
    }
   ],
   "source": [
    "breg.score(X_test,y_test)"
   ]
  },
  {
   "cell_type": "markdown",
   "metadata": {},
   "source": [
    "Tiny improvent over bagging and random forests..."
   ]
  },
  {
   "cell_type": "markdown",
   "metadata": {},
   "source": [
    "One challenge in building a boosting model is that we have several parameters to choose. \n",
    "1. The number of trees.\n",
    "2. The max depth of each tree.\n",
    "3. The learning rate."
   ]
  },
  {
   "cell_type": "markdown",
   "metadata": {},
   "source": [
    "```sklearn``` has a function to help cross validate over a grid of parameter values. WARNING: It can be slow!!!"
   ]
  },
  {
   "cell_type": "code",
   "execution_count": 122,
   "metadata": {},
   "outputs": [],
   "source": [
    "from sklearn.model_selection import GridSearchCV"
   ]
  },
  {
   "cell_type": "code",
   "execution_count": 123,
   "metadata": {},
   "outputs": [],
   "source": [
    "parameters = {'learning_rate':[0.1,0.01], 'n_estimators':[300,400,500],'max_depth':[2,3,4,5]}"
   ]
  },
  {
   "cell_type": "code",
   "execution_count": 124,
   "metadata": {},
   "outputs": [],
   "source": [
    "bmod = GradientBoostingRegressor(random_state=0)"
   ]
  },
  {
   "cell_type": "code",
   "execution_count": 125,
   "metadata": {},
   "outputs": [
    {
     "data": {
      "text/plain": [
       "GridSearchCV(estimator=GradientBoostingRegressor(random_state=0),\n",
       "             param_grid={'learning_rate': [0.1, 0.01],\n",
       "                         'max_depth': [2, 3, 4, 5],\n",
       "                         'n_estimators': [300, 400, 500]})"
      ]
     },
     "execution_count": 125,
     "metadata": {},
     "output_type": "execute_result"
    }
   ],
   "source": [
    "boost_regr = GridSearchCV(bmod, parameters)\n",
    "boost_regr.fit(X_train, y_train)"
   ]
  },
  {
   "cell_type": "markdown",
   "metadata": {},
   "source": [
    "Lot's of info in here-- we can pull it all into a data frame..."
   ]
  },
  {
   "cell_type": "code",
   "execution_count": 126,
   "metadata": {},
   "outputs": [],
   "source": [
    "df=pd.DataFrame.from_dict(boost_regr.cv_results_)"
   ]
  },
  {
   "cell_type": "markdown",
   "metadata": {},
   "source": [
    "... and pull out the parameter values corresponding to the best CV score. "
   ]
  },
  {
   "cell_type": "code",
   "execution_count": 127,
   "metadata": {},
   "outputs": [
    {
     "data": {
      "text/html": [
       "<div>\n",
       "<style scoped>\n",
       "    .dataframe tbody tr th:only-of-type {\n",
       "        vertical-align: middle;\n",
       "    }\n",
       "\n",
       "    .dataframe tbody tr th {\n",
       "        vertical-align: top;\n",
       "    }\n",
       "\n",
       "    .dataframe thead th {\n",
       "        text-align: right;\n",
       "    }\n",
       "</style>\n",
       "<table border=\"1\" class=\"dataframe\">\n",
       "  <thead>\n",
       "    <tr style=\"text-align: right;\">\n",
       "      <th></th>\n",
       "      <th>mean_fit_time</th>\n",
       "      <th>std_fit_time</th>\n",
       "      <th>mean_score_time</th>\n",
       "      <th>std_score_time</th>\n",
       "      <th>param_learning_rate</th>\n",
       "      <th>param_max_depth</th>\n",
       "      <th>param_n_estimators</th>\n",
       "      <th>params</th>\n",
       "      <th>split0_test_score</th>\n",
       "      <th>split1_test_score</th>\n",
       "      <th>split2_test_score</th>\n",
       "      <th>split3_test_score</th>\n",
       "      <th>split4_test_score</th>\n",
       "      <th>mean_test_score</th>\n",
       "      <th>std_test_score</th>\n",
       "      <th>rank_test_score</th>\n",
       "    </tr>\n",
       "  </thead>\n",
       "  <tbody>\n",
       "    <tr>\n",
       "      <th>20</th>\n",
       "      <td>1.621032</td>\n",
       "      <td>0.035332</td>\n",
       "      <td>0.005266</td>\n",
       "      <td>0.000111</td>\n",
       "      <td>0.01</td>\n",
       "      <td>4</td>\n",
       "      <td>500</td>\n",
       "      <td>{'learning_rate': 0.01, 'max_depth': 4, 'n_est...</td>\n",
       "      <td>0.544431</td>\n",
       "      <td>0.60046</td>\n",
       "      <td>0.663753</td>\n",
       "      <td>0.538545</td>\n",
       "      <td>0.518972</td>\n",
       "      <td>0.573232</td>\n",
       "      <td>0.052749</td>\n",
       "      <td>1</td>\n",
       "    </tr>\n",
       "  </tbody>\n",
       "</table>\n",
       "</div>"
      ],
      "text/plain": [
       "    mean_fit_time  std_fit_time  mean_score_time  std_score_time  \\\n",
       "20       1.621032      0.035332         0.005266        0.000111   \n",
       "\n",
       "   param_learning_rate param_max_depth param_n_estimators  \\\n",
       "20                0.01               4                500   \n",
       "\n",
       "                                               params  split0_test_score  \\\n",
       "20  {'learning_rate': 0.01, 'max_depth': 4, 'n_est...           0.544431   \n",
       "\n",
       "    split1_test_score  split2_test_score  split3_test_score  \\\n",
       "20            0.60046           0.663753           0.538545   \n",
       "\n",
       "    split4_test_score  mean_test_score  std_test_score  rank_test_score  \n",
       "20           0.518972         0.573232        0.052749                1  "
      ]
     },
     "execution_count": 127,
     "metadata": {},
     "output_type": "execute_result"
    }
   ],
   "source": [
    "df[df['mean_test_score']==df['mean_test_score'].max()]"
   ]
  },
  {
   "cell_type": "code",
   "execution_count": 128,
   "metadata": {},
   "outputs": [],
   "source": [
    "best_breg = GradientBoostingRegressor(random_state=0,learning_rate=0.01,n_estimators=400,max_depth=4).fit(X_train,y_train)"
   ]
  },
  {
   "cell_type": "code",
   "execution_count": 129,
   "metadata": {},
   "outputs": [
    {
     "data": {
      "text/plain": [
       "0.58"
      ]
     },
     "execution_count": 129,
     "metadata": {},
     "output_type": "execute_result"
    }
   ],
   "source": [
    "np.round(best_breg.score(X_test,y_test),2)"
   ]
  },
  {
   "cell_type": "code",
   "execution_count": null,
   "metadata": {},
   "outputs": [],
   "source": []
  },
  {
   "cell_type": "markdown",
   "metadata": {},
   "source": [
    "# PCA Approach and Feature Engineering"
   ]
  },
  {
   "cell_type": "code",
   "execution_count": 130,
   "metadata": {},
   "outputs": [
    {
     "data": {
      "text/html": [
       "<div>\n",
       "<style scoped>\n",
       "    .dataframe tbody tr th:only-of-type {\n",
       "        vertical-align: middle;\n",
       "    }\n",
       "\n",
       "    .dataframe tbody tr th {\n",
       "        vertical-align: top;\n",
       "    }\n",
       "\n",
       "    .dataframe thead th {\n",
       "        text-align: right;\n",
       "    }\n",
       "</style>\n",
       "<table border=\"1\" class=\"dataframe\">\n",
       "  <thead>\n",
       "    <tr style=\"text-align: right;\">\n",
       "      <th></th>\n",
       "      <th>player_id</th>\n",
       "      <th>salary</th>\n",
       "      <th>season_end</th>\n",
       "    </tr>\n",
       "  </thead>\n",
       "  <tbody>\n",
       "    <tr>\n",
       "      <th>0</th>\n",
       "      <td>abdelal01</td>\n",
       "      <td>5.688000e+05</td>\n",
       "      <td>1993.000000</td>\n",
       "    </tr>\n",
       "    <tr>\n",
       "      <th>1</th>\n",
       "      <td>abdulka01</td>\n",
       "      <td>2.140000e+06</td>\n",
       "      <td>1987.000000</td>\n",
       "    </tr>\n",
       "    <tr>\n",
       "      <th>2</th>\n",
       "      <td>abdulma02</td>\n",
       "      <td>2.205500e+06</td>\n",
       "      <td>1995.222222</td>\n",
       "    </tr>\n",
       "    <tr>\n",
       "      <th>3</th>\n",
       "      <td>abdulta01</td>\n",
       "      <td>3.798280e+06</td>\n",
       "      <td>2002.500000</td>\n",
       "    </tr>\n",
       "    <tr>\n",
       "      <th>4</th>\n",
       "      <td>abdursh01</td>\n",
       "      <td>8.715091e+06</td>\n",
       "      <td>2003.909091</td>\n",
       "    </tr>\n",
       "  </tbody>\n",
       "</table>\n",
       "</div>"
      ],
      "text/plain": [
       "   player_id        salary   season_end\n",
       "0  abdelal01  5.688000e+05  1993.000000\n",
       "1  abdulka01  2.140000e+06  1987.000000\n",
       "2  abdulma02  2.205500e+06  1995.222222\n",
       "3  abdulta01  3.798280e+06  2002.500000\n",
       "4  abdursh01  8.715091e+06  2003.909091"
      ]
     },
     "execution_count": 130,
     "metadata": {},
     "output_type": "execute_result"
    }
   ],
   "source": [
    "sal_avg=sal.groupby('player_id',as_index=False).mean()[['player_id','salary','season_end']]\n",
    "sal_avg.head()"
   ]
  },
  {
   "cell_type": "markdown",
   "metadata": {},
   "source": [
    "Merge stats and salaries."
   ]
  },
  {
   "cell_type": "code",
   "execution_count": 131,
   "metadata": {},
   "outputs": [
    {
     "data": {
      "text/html": [
       "<div>\n",
       "<style scoped>\n",
       "    .dataframe tbody tr th:only-of-type {\n",
       "        vertical-align: middle;\n",
       "    }\n",
       "\n",
       "    .dataframe tbody tr th {\n",
       "        vertical-align: top;\n",
       "    }\n",
       "\n",
       "    .dataframe thead th {\n",
       "        text-align: right;\n",
       "    }\n",
       "</style>\n",
       "<table border=\"1\" class=\"dataframe\">\n",
       "  <thead>\n",
       "    <tr style=\"text-align: right;\">\n",
       "      <th></th>\n",
       "      <th>_id</th>\n",
       "      <th>birthDate</th>\n",
       "      <th>birthPlace</th>\n",
       "      <th>career_AST</th>\n",
       "      <th>career_FG%</th>\n",
       "      <th>career_FG3%</th>\n",
       "      <th>career_FT%</th>\n",
       "      <th>career_G</th>\n",
       "      <th>career_PER</th>\n",
       "      <th>career_PTS</th>\n",
       "      <th>...</th>\n",
       "      <th>draft_year</th>\n",
       "      <th>height</th>\n",
       "      <th>highSchool</th>\n",
       "      <th>name</th>\n",
       "      <th>position</th>\n",
       "      <th>shoots</th>\n",
       "      <th>weight</th>\n",
       "      <th>player_id</th>\n",
       "      <th>salary</th>\n",
       "      <th>season_end</th>\n",
       "    </tr>\n",
       "  </thead>\n",
       "  <tbody>\n",
       "    <tr>\n",
       "      <th>0</th>\n",
       "      <td>abdelal01</td>\n",
       "      <td>June 24, 1968</td>\n",
       "      <td>Cairo, Egypt</td>\n",
       "      <td>0.3</td>\n",
       "      <td>50.2</td>\n",
       "      <td>0.0</td>\n",
       "      <td>70.1</td>\n",
       "      <td>256</td>\n",
       "      <td>13.0</td>\n",
       "      <td>5.7</td>\n",
       "      <td>...</td>\n",
       "      <td>1990</td>\n",
       "      <td>6-10</td>\n",
       "      <td>Bloomfield in Bloomfield, New Jersey</td>\n",
       "      <td>Alaa Abdelnaby</td>\n",
       "      <td>Power Forward</td>\n",
       "      <td>Right</td>\n",
       "      <td>240lb</td>\n",
       "      <td>abdelal01</td>\n",
       "      <td>568800.0</td>\n",
       "      <td>1993.000000</td>\n",
       "    </tr>\n",
       "    <tr>\n",
       "      <th>1</th>\n",
       "      <td>abdulza01</td>\n",
       "      <td>April 7, 1946</td>\n",
       "      <td>Brooklyn, New York</td>\n",
       "      <td>1.2</td>\n",
       "      <td>42.8</td>\n",
       "      <td>NaN</td>\n",
       "      <td>72.8</td>\n",
       "      <td>505</td>\n",
       "      <td>15.1</td>\n",
       "      <td>9.0</td>\n",
       "      <td>...</td>\n",
       "      <td>1968</td>\n",
       "      <td>6-9</td>\n",
       "      <td>John Jay in Brooklyn, New York</td>\n",
       "      <td>Zaid Abdul-Aziz</td>\n",
       "      <td>Power Forward and Center</td>\n",
       "      <td>Right</td>\n",
       "      <td>235lb</td>\n",
       "      <td>NaN</td>\n",
       "      <td>NaN</td>\n",
       "      <td>NaN</td>\n",
       "    </tr>\n",
       "    <tr>\n",
       "      <th>2</th>\n",
       "      <td>abdulka01</td>\n",
       "      <td>April 16, 1947</td>\n",
       "      <td>New York, New York</td>\n",
       "      <td>3.6</td>\n",
       "      <td>55.9</td>\n",
       "      <td>5.6</td>\n",
       "      <td>72.1</td>\n",
       "      <td>1560</td>\n",
       "      <td>24.6</td>\n",
       "      <td>24.6</td>\n",
       "      <td>...</td>\n",
       "      <td>1969</td>\n",
       "      <td>7-2</td>\n",
       "      <td>Power Memorial in New York, New York</td>\n",
       "      <td>Kareem Abdul-Jabbar</td>\n",
       "      <td>Center</td>\n",
       "      <td>Right</td>\n",
       "      <td>225lb</td>\n",
       "      <td>abdulka01</td>\n",
       "      <td>2140000.0</td>\n",
       "      <td>1987.000000</td>\n",
       "    </tr>\n",
       "    <tr>\n",
       "      <th>3</th>\n",
       "      <td>abdulma02</td>\n",
       "      <td>March 9, 1969</td>\n",
       "      <td>Gulfport, Mississippi</td>\n",
       "      <td>3.5</td>\n",
       "      <td>44.2</td>\n",
       "      <td>35.4</td>\n",
       "      <td>90.5</td>\n",
       "      <td>586</td>\n",
       "      <td>15.4</td>\n",
       "      <td>14.6</td>\n",
       "      <td>...</td>\n",
       "      <td>1990</td>\n",
       "      <td>6-1</td>\n",
       "      <td>Gulfport in Gulfport, Mississippi</td>\n",
       "      <td>Mahmoud Abdul-Rauf</td>\n",
       "      <td>Point Guard</td>\n",
       "      <td>Right</td>\n",
       "      <td>162lb</td>\n",
       "      <td>abdulma02</td>\n",
       "      <td>2205500.0</td>\n",
       "      <td>1995.222222</td>\n",
       "    </tr>\n",
       "    <tr>\n",
       "      <th>4</th>\n",
       "      <td>abdulta01</td>\n",
       "      <td>November 3, 1974</td>\n",
       "      <td>Maisons Alfort, France</td>\n",
       "      <td>1.1</td>\n",
       "      <td>41.7</td>\n",
       "      <td>23.7</td>\n",
       "      <td>70.3</td>\n",
       "      <td>236</td>\n",
       "      <td>11.4</td>\n",
       "      <td>7.8</td>\n",
       "      <td>...</td>\n",
       "      <td>1997</td>\n",
       "      <td>6-6</td>\n",
       "      <td>Lycee Aristide Briand in Evreux, France</td>\n",
       "      <td>Tariq Abdul-Wahad</td>\n",
       "      <td>Shooting Guard</td>\n",
       "      <td>Right</td>\n",
       "      <td>223lb</td>\n",
       "      <td>abdulta01</td>\n",
       "      <td>3798280.0</td>\n",
       "      <td>2002.500000</td>\n",
       "    </tr>\n",
       "  </tbody>\n",
       "</table>\n",
       "<p>5 rows × 27 columns</p>\n",
       "</div>"
      ],
      "text/plain": [
       "         _id         birthDate              birthPlace  career_AST career_FG%  \\\n",
       "0  abdelal01     June 24, 1968            Cairo, Egypt         0.3       50.2   \n",
       "1  abdulza01     April 7, 1946      Brooklyn, New York         1.2       42.8   \n",
       "2  abdulka01    April 16, 1947      New York, New York         3.6       55.9   \n",
       "3  abdulma02     March 9, 1969   Gulfport, Mississippi         3.5       44.2   \n",
       "4  abdulta01  November 3, 1974  Maisons Alfort, France         1.1       41.7   \n",
       "\n",
       "  career_FG3% career_FT%  career_G career_PER  career_PTS  ... draft_year  \\\n",
       "0         0.0       70.1       256       13.0         5.7  ...       1990   \n",
       "1         NaN       72.8       505       15.1         9.0  ...       1968   \n",
       "2         5.6       72.1      1560       24.6        24.6  ...       1969   \n",
       "3        35.4       90.5       586       15.4        14.6  ...       1990   \n",
       "4        23.7       70.3       236       11.4         7.8  ...       1997   \n",
       "\n",
       "  height                               highSchool                 name  \\\n",
       "0   6-10     Bloomfield in Bloomfield, New Jersey       Alaa Abdelnaby   \n",
       "1    6-9           John Jay in Brooklyn, New York      Zaid Abdul-Aziz   \n",
       "2    7-2     Power Memorial in New York, New York  Kareem Abdul-Jabbar   \n",
       "3    6-1        Gulfport in Gulfport, Mississippi   Mahmoud Abdul-Rauf   \n",
       "4    6-6  Lycee Aristide Briand in Evreux, France    Tariq Abdul-Wahad   \n",
       "\n",
       "                   position shoots weight  player_id     salary   season_end  \n",
       "0             Power Forward  Right  240lb  abdelal01   568800.0  1993.000000  \n",
       "1  Power Forward and Center  Right  235lb        NaN        NaN          NaN  \n",
       "2                    Center  Right  225lb  abdulka01  2140000.0  1987.000000  \n",
       "3               Point Guard  Right  162lb  abdulma02  2205500.0  1995.222222  \n",
       "4            Shooting Guard  Right  223lb  abdulta01  3798280.0  2002.500000  \n",
       "\n",
       "[5 rows x 27 columns]"
      ]
     },
     "execution_count": 131,
     "metadata": {},
     "output_type": "execute_result"
    }
   ],
   "source": [
    "plsal=pl.merge(sal_avg,how='left',left_on='_id',right_on='player_id')\n",
    "plsal.head()"
   ]
  },
  {
   "cell_type": "code",
   "execution_count": 132,
   "metadata": {},
   "outputs": [
    {
     "data": {
      "text/plain": [
       "(4685, 27)"
      ]
     },
     "execution_count": 132,
     "metadata": {},
     "output_type": "execute_result"
    }
   ],
   "source": [
    "plsal.shape"
   ]
  },
  {
   "cell_type": "code",
   "execution_count": 133,
   "metadata": {},
   "outputs": [
    {
     "data": {
      "text/plain": [
       "_id               0\n",
       "birthDate        28\n",
       "birthPlace      500\n",
       "career_AST        0\n",
       "career_FG%        0\n",
       "career_FG3%    1128\n",
       "career_FT%        0\n",
       "career_G          0\n",
       "career_PER        0\n",
       "career_PTS        0\n",
       "career_TRB        0\n",
       "career_WS         0\n",
       "career_eFG%    1128\n",
       "college         313\n",
       "draft_pick     1316\n",
       "draft_round    1178\n",
       "draft_team     1178\n",
       "draft_year     1379\n",
       "height            0\n",
       "highSchool      660\n",
       "name              0\n",
       "position          0\n",
       "shoots            1\n",
       "weight            5\n",
       "player_id      2277\n",
       "salary         2277\n",
       "season_end     2277\n",
       "dtype: int64"
      ]
     },
     "execution_count": 133,
     "metadata": {},
     "output_type": "execute_result"
    }
   ],
   "source": [
    "plsal.isna().sum()"
   ]
  },
  {
   "cell_type": "markdown",
   "metadata": {},
   "source": [
    "Drop missing salaries."
   ]
  },
  {
   "cell_type": "code",
   "execution_count": 134,
   "metadata": {},
   "outputs": [],
   "source": [
    "plsal=plsal[plsal['salary'].notnull()]"
   ]
  },
  {
   "cell_type": "code",
   "execution_count": 135,
   "metadata": {},
   "outputs": [
    {
     "data": {
      "text/plain": [
       "(2408, 27)"
      ]
     },
     "execution_count": 135,
     "metadata": {},
     "output_type": "execute_result"
    }
   ],
   "source": [
    "plsal.shape"
   ]
  },
  {
   "cell_type": "code",
   "execution_count": 136,
   "metadata": {},
   "outputs": [
    {
     "data": {
      "text/plain": [
       "_id             object\n",
       "birthDate       object\n",
       "birthPlace      object\n",
       "career_AST     float64\n",
       "career_FG%      object\n",
       "career_FG3%     object\n",
       "career_FT%      object\n",
       "career_G         int64\n",
       "career_PER      object\n",
       "career_PTS     float64\n",
       "career_TRB      object\n",
       "career_WS       object\n",
       "career_eFG%     object\n",
       "college         object\n",
       "draft_pick      object\n",
       "draft_round     object\n",
       "draft_team      object\n",
       "draft_year      object\n",
       "height          object\n",
       "highSchool      object\n",
       "name            object\n",
       "position        object\n",
       "shoots          object\n",
       "weight          object\n",
       "player_id       object\n",
       "salary         float64\n",
       "season_end     float64\n",
       "dtype: object"
      ]
     },
     "execution_count": 136,
     "metadata": {},
     "output_type": "execute_result"
    }
   ],
   "source": [
    "plsal.dtypes"
   ]
  },
  {
   "cell_type": "markdown",
   "metadata": {},
   "source": [
    "Lots of columns are encoded as object types rather than numerical which is an issue for ```sklearn```. We'll need to fix. Also, Height and weight have issues..."
   ]
  },
  {
   "cell_type": "code",
   "execution_count": 137,
   "metadata": {},
   "outputs": [
    {
     "data": {
      "text/html": [
       "<div>\n",
       "<style scoped>\n",
       "    .dataframe tbody tr th:only-of-type {\n",
       "        vertical-align: middle;\n",
       "    }\n",
       "\n",
       "    .dataframe tbody tr th {\n",
       "        vertical-align: top;\n",
       "    }\n",
       "\n",
       "    .dataframe thead th {\n",
       "        text-align: right;\n",
       "    }\n",
       "</style>\n",
       "<table border=\"1\" class=\"dataframe\">\n",
       "  <thead>\n",
       "    <tr style=\"text-align: right;\">\n",
       "      <th></th>\n",
       "      <th>height</th>\n",
       "      <th>weight</th>\n",
       "    </tr>\n",
       "  </thead>\n",
       "  <tbody>\n",
       "    <tr>\n",
       "      <th>0</th>\n",
       "      <td>6-10</td>\n",
       "      <td>240lb</td>\n",
       "    </tr>\n",
       "    <tr>\n",
       "      <th>2</th>\n",
       "      <td>7-2</td>\n",
       "      <td>225lb</td>\n",
       "    </tr>\n",
       "    <tr>\n",
       "      <th>3</th>\n",
       "      <td>6-1</td>\n",
       "      <td>162lb</td>\n",
       "    </tr>\n",
       "    <tr>\n",
       "      <th>4</th>\n",
       "      <td>6-6</td>\n",
       "      <td>223lb</td>\n",
       "    </tr>\n",
       "    <tr>\n",
       "      <th>5</th>\n",
       "      <td>6-9</td>\n",
       "      <td>225lb</td>\n",
       "    </tr>\n",
       "  </tbody>\n",
       "</table>\n",
       "</div>"
      ],
      "text/plain": [
       "  height weight\n",
       "0   6-10  240lb\n",
       "2    7-2  225lb\n",
       "3    6-1  162lb\n",
       "4    6-6  223lb\n",
       "5    6-9  225lb"
      ]
     },
     "execution_count": 137,
     "metadata": {},
     "output_type": "execute_result"
    }
   ],
   "source": [
    "plsal[['height','weight']].head()"
   ]
  },
  {
   "cell_type": "markdown",
   "metadata": {},
   "source": [
    "We need to make these numbers..."
   ]
  },
  {
   "cell_type": "code",
   "execution_count": 138,
   "metadata": {},
   "outputs": [],
   "source": [
    "def num_ht(row):\n",
    "    return np.int(row['height'].split(\"-\")[0])*12+np.int(row['height'].split(\"-\")[1])\n",
    "def num_wt(row):\n",
    "    return np.int(row['weight'].split(\"lb\")[0])"
   ]
  },
  {
   "cell_type": "code",
   "execution_count": 139,
   "metadata": {},
   "outputs": [],
   "source": [
    "plsal['num_ht']=plsal.apply(num_ht,axis=1)\n",
    "plsal['num_wt']=plsal.apply(num_wt,axis=1)"
   ]
  },
  {
   "cell_type": "code",
   "execution_count": 140,
   "metadata": {},
   "outputs": [
    {
     "data": {
      "text/html": [
       "<div>\n",
       "<style scoped>\n",
       "    .dataframe tbody tr th:only-of-type {\n",
       "        vertical-align: middle;\n",
       "    }\n",
       "\n",
       "    .dataframe tbody tr th {\n",
       "        vertical-align: top;\n",
       "    }\n",
       "\n",
       "    .dataframe thead th {\n",
       "        text-align: right;\n",
       "    }\n",
       "</style>\n",
       "<table border=\"1\" class=\"dataframe\">\n",
       "  <thead>\n",
       "    <tr style=\"text-align: right;\">\n",
       "      <th></th>\n",
       "      <th>num_ht</th>\n",
       "      <th>num_wt</th>\n",
       "    </tr>\n",
       "  </thead>\n",
       "  <tbody>\n",
       "    <tr>\n",
       "      <th>0</th>\n",
       "      <td>82</td>\n",
       "      <td>240</td>\n",
       "    </tr>\n",
       "    <tr>\n",
       "      <th>2</th>\n",
       "      <td>86</td>\n",
       "      <td>225</td>\n",
       "    </tr>\n",
       "    <tr>\n",
       "      <th>3</th>\n",
       "      <td>73</td>\n",
       "      <td>162</td>\n",
       "    </tr>\n",
       "    <tr>\n",
       "      <th>4</th>\n",
       "      <td>78</td>\n",
       "      <td>223</td>\n",
       "    </tr>\n",
       "    <tr>\n",
       "      <th>5</th>\n",
       "      <td>81</td>\n",
       "      <td>225</td>\n",
       "    </tr>\n",
       "  </tbody>\n",
       "</table>\n",
       "</div>"
      ],
      "text/plain": [
       "   num_ht  num_wt\n",
       "0      82     240\n",
       "2      86     225\n",
       "3      73     162\n",
       "4      78     223\n",
       "5      81     225"
      ]
     },
     "execution_count": 140,
     "metadata": {},
     "output_type": "execute_result"
    }
   ],
   "source": [
    "plsal[['num_ht','num_wt']].head()"
   ]
  },
  {
   "cell_type": "markdown",
   "metadata": {},
   "source": [
    "Let's think about which columns we want to predict salary. Probably not high school, birthdate, etc."
   ]
  },
  {
   "cell_type": "code",
   "execution_count": 141,
   "metadata": {},
   "outputs": [
    {
     "data": {
      "text/plain": [
       "Index(['_id', 'birthDate', 'birthPlace', 'career_AST', 'career_FG%',\n",
       "       'career_FG3%', 'career_FT%', 'career_G', 'career_PER', 'career_PTS',\n",
       "       'career_TRB', 'career_WS', 'career_eFG%', 'college', 'draft_pick',\n",
       "       'draft_round', 'draft_team', 'draft_year', 'height', 'highSchool',\n",
       "       'name', 'position', 'shoots', 'weight', 'player_id', 'salary',\n",
       "       'season_end', 'num_ht', 'num_wt'],\n",
       "      dtype='object')"
      ]
     },
     "execution_count": 141,
     "metadata": {},
     "output_type": "execute_result"
    }
   ],
   "source": [
    "plsal.columns"
   ]
  },
  {
   "cell_type": "code",
   "execution_count": 142,
   "metadata": {},
   "outputs": [],
   "source": [
    "cols=['career_AST', 'career_FG%',\n",
    "       'career_FG3%', 'career_FT%', 'career_G', 'career_PER', 'career_PTS',\n",
    "       'career_TRB', 'career_WS', 'career_eFG%',\n",
    "       'name','player_id', 'salary',\n",
    "       'season_end', 'num_ht','num_wt']"
   ]
  },
  {
   "cell_type": "markdown",
   "metadata": {},
   "source": [
    "Note: Position might be meaningful to salary. For example, are centers more valuable because there are fewer? But if we want to do PCA we need all numeric features so we have to drop it or think of a way to encode it. Drop for now."
   ]
  },
  {
   "cell_type": "code",
   "execution_count": 143,
   "metadata": {},
   "outputs": [],
   "source": [
    "df=plsal[cols]"
   ]
  },
  {
   "cell_type": "code",
   "execution_count": 144,
   "metadata": {},
   "outputs": [
    {
     "data": {
      "text/plain": [
       "career_AST     float64\n",
       "career_FG%      object\n",
       "career_FG3%     object\n",
       "career_FT%      object\n",
       "career_G         int64\n",
       "career_PER      object\n",
       "career_PTS     float64\n",
       "career_TRB      object\n",
       "career_WS       object\n",
       "career_eFG%     object\n",
       "name            object\n",
       "player_id       object\n",
       "salary         float64\n",
       "season_end     float64\n",
       "num_ht           int64\n",
       "num_wt           int64\n",
       "dtype: object"
      ]
     },
     "execution_count": 144,
     "metadata": {},
     "output_type": "execute_result"
    }
   ],
   "source": [
    "df.dtypes"
   ]
  },
  {
   "cell_type": "markdown",
   "metadata": {},
   "source": [
    "Force to numeric dtype. Tgis can cause errors which will become NaN."
   ]
  },
  {
   "cell_type": "code",
   "execution_count": 145,
   "metadata": {},
   "outputs": [
    {
     "name": "stderr",
     "output_type": "stream",
     "text": [
      "/opt/anaconda3/lib/python3.8/site-packages/pandas/core/frame.py:2963: SettingWithCopyWarning: \n",
      "A value is trying to be set on a copy of a slice from a DataFrame.\n",
      "Try using .loc[row_indexer,col_indexer] = value instead\n",
      "\n",
      "See the caveats in the documentation: https://pandas.pydata.org/pandas-docs/stable/user_guide/indexing.html#returning-a-view-versus-a-copy\n",
      "  self[k1] = value[k2]\n"
     ]
    }
   ],
   "source": [
    "df[['career_FG%', 'career_FG3%', 'career_FT%','career_PER', 'career_TRB', 'career_WS', 'career_eFG%',]]=df[['career_FG%', 'career_FG3%', 'career_FT%','career_PER', 'career_TRB', 'career_WS', 'career_eFG%',]].apply(pd.to_numeric, errors='coerce')"
   ]
  },
  {
   "cell_type": "code",
   "execution_count": 146,
   "metadata": {},
   "outputs": [
    {
     "data": {
      "text/plain": [
       "career_AST     float64\n",
       "career_FG%     float64\n",
       "career_FG3%    float64\n",
       "career_FT%     float64\n",
       "career_G         int64\n",
       "career_PER     float64\n",
       "career_PTS     float64\n",
       "career_TRB     float64\n",
       "career_WS      float64\n",
       "career_eFG%    float64\n",
       "name            object\n",
       "player_id       object\n",
       "salary         float64\n",
       "season_end     float64\n",
       "num_ht           int64\n",
       "num_wt           int64\n",
       "dtype: object"
      ]
     },
     "execution_count": 146,
     "metadata": {},
     "output_type": "execute_result"
    }
   ],
   "source": [
    "df.dtypes"
   ]
  },
  {
   "cell_type": "code",
   "execution_count": 147,
   "metadata": {},
   "outputs": [
    {
     "data": {
      "text/plain": [
       "career_AST       0\n",
       "career_FG%       9\n",
       "career_FG3%    219\n",
       "career_FT%      69\n",
       "career_G         0\n",
       "career_PER       2\n",
       "career_PTS       0\n",
       "career_TRB       0\n",
       "career_WS        0\n",
       "career_eFG%      9\n",
       "name             0\n",
       "player_id        0\n",
       "salary           0\n",
       "season_end       0\n",
       "num_ht           0\n",
       "num_wt           0\n",
       "dtype: int64"
      ]
     },
     "execution_count": 147,
     "metadata": {},
     "output_type": "execute_result"
    }
   ],
   "source": [
    "df.isna().sum()"
   ]
  },
  {
   "cell_type": "code",
   "execution_count": 148,
   "metadata": {},
   "outputs": [
    {
     "data": {
      "text/html": [
       "<div>\n",
       "<style scoped>\n",
       "    .dataframe tbody tr th:only-of-type {\n",
       "        vertical-align: middle;\n",
       "    }\n",
       "\n",
       "    .dataframe tbody tr th {\n",
       "        vertical-align: top;\n",
       "    }\n",
       "\n",
       "    .dataframe thead th {\n",
       "        text-align: right;\n",
       "    }\n",
       "</style>\n",
       "<table border=\"1\" class=\"dataframe\">\n",
       "  <thead>\n",
       "    <tr style=\"text-align: right;\">\n",
       "      <th></th>\n",
       "      <th>career_AST</th>\n",
       "      <th>career_FG%</th>\n",
       "      <th>career_FG3%</th>\n",
       "      <th>career_FT%</th>\n",
       "      <th>career_G</th>\n",
       "      <th>career_PER</th>\n",
       "      <th>career_PTS</th>\n",
       "      <th>career_TRB</th>\n",
       "      <th>career_WS</th>\n",
       "      <th>career_eFG%</th>\n",
       "      <th>name</th>\n",
       "      <th>player_id</th>\n",
       "      <th>salary</th>\n",
       "      <th>season_end</th>\n",
       "      <th>num_ht</th>\n",
       "      <th>num_wt</th>\n",
       "    </tr>\n",
       "  </thead>\n",
       "  <tbody>\n",
       "    <tr>\n",
       "      <th>38</th>\n",
       "      <td>0.2</td>\n",
       "      <td>31.4</td>\n",
       "      <td>NaN</td>\n",
       "      <td>70.0</td>\n",
       "      <td>26</td>\n",
       "      <td>10.3</td>\n",
       "      <td>1.5</td>\n",
       "      <td>2.3</td>\n",
       "      <td>0.0</td>\n",
       "      <td>31.4</td>\n",
       "      <td>Solomon Alabi</td>\n",
       "      <td>alabiso01</td>\n",
       "      <td>8.000000e+05</td>\n",
       "      <td>2011.500000</td>\n",
       "      <td>85</td>\n",
       "      <td>251</td>\n",
       "    </tr>\n",
       "    <tr>\n",
       "      <th>42</th>\n",
       "      <td>0.5</td>\n",
       "      <td>52.7</td>\n",
       "      <td>NaN</td>\n",
       "      <td>73.8</td>\n",
       "      <td>339</td>\n",
       "      <td>16.6</td>\n",
       "      <td>3.1</td>\n",
       "      <td>3.3</td>\n",
       "      <td>9.6</td>\n",
       "      <td>52.7</td>\n",
       "      <td>Cole Aldrich</td>\n",
       "      <td>aldrico01</td>\n",
       "      <td>3.411952e+06</td>\n",
       "      <td>2014.571429</td>\n",
       "      <td>83</td>\n",
       "      <td>250</td>\n",
       "    </tr>\n",
       "    <tr>\n",
       "      <th>45</th>\n",
       "      <td>0.0</td>\n",
       "      <td>50.0</td>\n",
       "      <td>NaN</td>\n",
       "      <td>NaN</td>\n",
       "      <td>8</td>\n",
       "      <td>11.6</td>\n",
       "      <td>1.3</td>\n",
       "      <td>0.8</td>\n",
       "      <td>0.0</td>\n",
       "      <td>50.0</td>\n",
       "      <td>Cliff Alexander</td>\n",
       "      <td>alexacl01</td>\n",
       "      <td>2.882710e+05</td>\n",
       "      <td>2016.500000</td>\n",
       "      <td>80</td>\n",
       "      <td>245</td>\n",
       "    </tr>\n",
       "    <tr>\n",
       "      <th>48</th>\n",
       "      <td>0.2</td>\n",
       "      <td>57.1</td>\n",
       "      <td>NaN</td>\n",
       "      <td>33.3</td>\n",
       "      <td>11</td>\n",
       "      <td>8.6</td>\n",
       "      <td>1.7</td>\n",
       "      <td>1.4</td>\n",
       "      <td>0.0</td>\n",
       "      <td>57.1</td>\n",
       "      <td>Gary Alexander</td>\n",
       "      <td>alexaga01</td>\n",
       "      <td>1.500000e+05</td>\n",
       "      <td>1995.000000</td>\n",
       "      <td>79</td>\n",
       "      <td>240</td>\n",
       "    </tr>\n",
       "    <tr>\n",
       "      <th>105</th>\n",
       "      <td>0.0</td>\n",
       "      <td>0.0</td>\n",
       "      <td>NaN</td>\n",
       "      <td>NaN</td>\n",
       "      <td>6</td>\n",
       "      <td>15.5</td>\n",
       "      <td>0.0</td>\n",
       "      <td>0.7</td>\n",
       "      <td>0.0</td>\n",
       "      <td>0.0</td>\n",
       "      <td>Martynas Andriuskevicius</td>\n",
       "      <td>andrima01</td>\n",
       "      <td>5.314855e+05</td>\n",
       "      <td>2006.500000</td>\n",
       "      <td>86</td>\n",
       "      <td>240</td>\n",
       "    </tr>\n",
       "  </tbody>\n",
       "</table>\n",
       "</div>"
      ],
      "text/plain": [
       "     career_AST  career_FG%  career_FG3%  career_FT%  career_G  career_PER  \\\n",
       "38          0.2        31.4          NaN        70.0        26        10.3   \n",
       "42          0.5        52.7          NaN        73.8       339        16.6   \n",
       "45          0.0        50.0          NaN         NaN         8        11.6   \n",
       "48          0.2        57.1          NaN        33.3        11         8.6   \n",
       "105         0.0         0.0          NaN         NaN         6        15.5   \n",
       "\n",
       "     career_PTS  career_TRB  career_WS  career_eFG%                      name  \\\n",
       "38          1.5         2.3        0.0         31.4             Solomon Alabi   \n",
       "42          3.1         3.3        9.6         52.7              Cole Aldrich   \n",
       "45          1.3         0.8        0.0         50.0           Cliff Alexander   \n",
       "48          1.7         1.4        0.0         57.1            Gary Alexander   \n",
       "105         0.0         0.7        0.0          0.0  Martynas Andriuskevicius   \n",
       "\n",
       "     player_id        salary   season_end  num_ht  num_wt  \n",
       "38   alabiso01  8.000000e+05  2011.500000      85     251  \n",
       "42   aldrico01  3.411952e+06  2014.571429      83     250  \n",
       "45   alexacl01  2.882710e+05  2016.500000      80     245  \n",
       "48   alexaga01  1.500000e+05  1995.000000      79     240  \n",
       "105  andrima01  5.314855e+05  2006.500000      86     240  "
      ]
     },
     "execution_count": 148,
     "metadata": {},
     "output_type": "execute_result"
    }
   ],
   "source": [
    "df[df['career_FG3%'].isna()].head()"
   ]
  },
  {
   "cell_type": "markdown",
   "metadata": {},
   "source": [
    "Most of these are players who didn't attempt any 3P shots. We could (should?) have fixed this but it seems reasonable to change 3P% this to 0 for these players."
   ]
  },
  {
   "cell_type": "code",
   "execution_count": 149,
   "metadata": {},
   "outputs": [
    {
     "name": "stderr",
     "output_type": "stream",
     "text": [
      "/opt/anaconda3/lib/python3.8/site-packages/pandas/core/generic.py:6245: SettingWithCopyWarning: \n",
      "A value is trying to be set on a copy of a slice from a DataFrame\n",
      "\n",
      "See the caveats in the documentation: https://pandas.pydata.org/pandas-docs/stable/user_guide/indexing.html#returning-a-view-versus-a-copy\n",
      "  self._update_inplace(new_data)\n"
     ]
    }
   ],
   "source": [
    "df['career_FG3%'].fillna(0,inplace=True)"
   ]
  },
  {
   "cell_type": "code",
   "execution_count": 150,
   "metadata": {},
   "outputs": [
    {
     "data": {
      "text/plain": [
       "career_AST      0\n",
       "career_FG%      9\n",
       "career_FG3%     0\n",
       "career_FT%     69\n",
       "career_G        0\n",
       "career_PER      2\n",
       "career_PTS      0\n",
       "career_TRB      0\n",
       "career_WS       0\n",
       "career_eFG%     9\n",
       "name            0\n",
       "player_id       0\n",
       "salary          0\n",
       "season_end      0\n",
       "num_ht          0\n",
       "num_wt          0\n",
       "dtype: int64"
      ]
     },
     "execution_count": 150,
     "metadata": {},
     "output_type": "execute_result"
    }
   ],
   "source": [
    "df.isna().sum()"
   ]
  },
  {
   "cell_type": "markdown",
   "metadata": {},
   "source": [
    "What about players with a career FT% that isn't defined (so they probably had 0 FTA in their career). "
   ]
  },
  {
   "cell_type": "code",
   "execution_count": 151,
   "metadata": {},
   "outputs": [
    {
     "data": {
      "text/html": [
       "<div>\n",
       "<style scoped>\n",
       "    .dataframe tbody tr th:only-of-type {\n",
       "        vertical-align: middle;\n",
       "    }\n",
       "\n",
       "    .dataframe tbody tr th {\n",
       "        vertical-align: top;\n",
       "    }\n",
       "\n",
       "    .dataframe thead th {\n",
       "        text-align: right;\n",
       "    }\n",
       "</style>\n",
       "<table border=\"1\" class=\"dataframe\">\n",
       "  <thead>\n",
       "    <tr style=\"text-align: right;\">\n",
       "      <th></th>\n",
       "      <th>career_AST</th>\n",
       "      <th>career_FG%</th>\n",
       "      <th>career_FG3%</th>\n",
       "      <th>career_FT%</th>\n",
       "      <th>career_G</th>\n",
       "      <th>career_PER</th>\n",
       "      <th>career_PTS</th>\n",
       "      <th>career_TRB</th>\n",
       "      <th>career_WS</th>\n",
       "      <th>career_eFG%</th>\n",
       "      <th>name</th>\n",
       "      <th>player_id</th>\n",
       "      <th>salary</th>\n",
       "      <th>season_end</th>\n",
       "      <th>num_ht</th>\n",
       "      <th>num_wt</th>\n",
       "    </tr>\n",
       "  </thead>\n",
       "  <tbody>\n",
       "    <tr>\n",
       "      <th>36</th>\n",
       "      <td>0.3</td>\n",
       "      <td>50.0</td>\n",
       "      <td>50.0</td>\n",
       "      <td>NaN</td>\n",
       "      <td>3</td>\n",
       "      <td>15.3</td>\n",
       "      <td>1.7</td>\n",
       "      <td>0.3</td>\n",
       "      <td>0.0</td>\n",
       "      <td>62.5</td>\n",
       "      <td>Josh Akognon</td>\n",
       "      <td>akognjo01</td>\n",
       "      <td>788872.0</td>\n",
       "      <td>2014.0</td>\n",
       "      <td>71</td>\n",
       "      <td>185</td>\n",
       "    </tr>\n",
       "    <tr>\n",
       "      <th>45</th>\n",
       "      <td>0.0</td>\n",
       "      <td>50.0</td>\n",
       "      <td>0.0</td>\n",
       "      <td>NaN</td>\n",
       "      <td>8</td>\n",
       "      <td>11.6</td>\n",
       "      <td>1.3</td>\n",
       "      <td>0.8</td>\n",
       "      <td>0.0</td>\n",
       "      <td>50.0</td>\n",
       "      <td>Cliff Alexander</td>\n",
       "      <td>alexacl01</td>\n",
       "      <td>288271.0</td>\n",
       "      <td>2016.5</td>\n",
       "      <td>80</td>\n",
       "      <td>245</td>\n",
       "    </tr>\n",
       "    <tr>\n",
       "      <th>105</th>\n",
       "      <td>0.0</td>\n",
       "      <td>0.0</td>\n",
       "      <td>0.0</td>\n",
       "      <td>NaN</td>\n",
       "      <td>6</td>\n",
       "      <td>15.5</td>\n",
       "      <td>0.0</td>\n",
       "      <td>0.7</td>\n",
       "      <td>0.0</td>\n",
       "      <td>0.0</td>\n",
       "      <td>Martynas Andriuskevicius</td>\n",
       "      <td>andrima01</td>\n",
       "      <td>531485.5</td>\n",
       "      <td>2006.5</td>\n",
       "      <td>86</td>\n",
       "      <td>240</td>\n",
       "    </tr>\n",
       "    <tr>\n",
       "      <th>112</th>\n",
       "      <td>0.0</td>\n",
       "      <td>75.0</td>\n",
       "      <td>0.0</td>\n",
       "      <td>NaN</td>\n",
       "      <td>2</td>\n",
       "      <td>32.9</td>\n",
       "      <td>3.0</td>\n",
       "      <td>0.5</td>\n",
       "      <td>0.0</td>\n",
       "      <td>75.0</td>\n",
       "      <td>Thanasis Antetokounmpo</td>\n",
       "      <td>antetth01</td>\n",
       "      <td>105888.0</td>\n",
       "      <td>2016.0</td>\n",
       "      <td>79</td>\n",
       "      <td>205</td>\n",
       "    </tr>\n",
       "    <tr>\n",
       "      <th>165</th>\n",
       "      <td>0.2</td>\n",
       "      <td>26.7</td>\n",
       "      <td>22.2</td>\n",
       "      <td>NaN</td>\n",
       "      <td>14</td>\n",
       "      <td>3.7</td>\n",
       "      <td>1.6</td>\n",
       "      <td>1.2</td>\n",
       "      <td>0.0</td>\n",
       "      <td>36.7</td>\n",
       "      <td>Chris Babb</td>\n",
       "      <td>babbch01</td>\n",
       "      <td>48028.0</td>\n",
       "      <td>2015.0</td>\n",
       "      <td>77</td>\n",
       "      <td>225</td>\n",
       "    </tr>\n",
       "  </tbody>\n",
       "</table>\n",
       "</div>"
      ],
      "text/plain": [
       "     career_AST  career_FG%  career_FG3%  career_FT%  career_G  career_PER  \\\n",
       "36          0.3        50.0         50.0         NaN         3        15.3   \n",
       "45          0.0        50.0          0.0         NaN         8        11.6   \n",
       "105         0.0         0.0          0.0         NaN         6        15.5   \n",
       "112         0.0        75.0          0.0         NaN         2        32.9   \n",
       "165         0.2        26.7         22.2         NaN        14         3.7   \n",
       "\n",
       "     career_PTS  career_TRB  career_WS  career_eFG%                      name  \\\n",
       "36          1.7         0.3        0.0         62.5              Josh Akognon   \n",
       "45          1.3         0.8        0.0         50.0           Cliff Alexander   \n",
       "105         0.0         0.7        0.0          0.0  Martynas Andriuskevicius   \n",
       "112         3.0         0.5        0.0         75.0    Thanasis Antetokounmpo   \n",
       "165         1.6         1.2        0.0         36.7                Chris Babb   \n",
       "\n",
       "     player_id    salary  season_end  num_ht  num_wt  \n",
       "36   akognjo01  788872.0      2014.0      71     185  \n",
       "45   alexacl01  288271.0      2016.5      80     245  \n",
       "105  andrima01  531485.5      2006.5      86     240  \n",
       "112  antetth01  105888.0      2016.0      79     205  \n",
       "165   babbch01   48028.0      2015.0      77     225  "
      ]
     },
     "execution_count": 151,
     "metadata": {},
     "output_type": "execute_result"
    }
   ],
   "source": [
    "df[df['career_FT%'].isna()].head()"
   ]
  },
  {
   "cell_type": "markdown",
   "metadata": {},
   "source": [
    "These players played very few games in general. This suggests another issue with the data -- FG percentages and other stats like PER for small sample size players are highly unreliable. Probably more cleaning is in order to resolve this -- but we'll just drop them for now."
   ]
  },
  {
   "cell_type": "code",
   "execution_count": 152,
   "metadata": {},
   "outputs": [
    {
     "name": "stderr",
     "output_type": "stream",
     "text": [
      "<ipython-input-152-c64f9f573c18>:1: SettingWithCopyWarning: \n",
      "A value is trying to be set on a copy of a slice from a DataFrame\n",
      "\n",
      "See the caveats in the documentation: https://pandas.pydata.org/pandas-docs/stable/user_guide/indexing.html#returning-a-view-versus-a-copy\n",
      "  df.dropna(inplace=True)\n"
     ]
    }
   ],
   "source": [
    "df.dropna(inplace=True)"
   ]
  },
  {
   "cell_type": "code",
   "execution_count": 153,
   "metadata": {},
   "outputs": [
    {
     "data": {
      "text/html": [
       "<div>\n",
       "<style scoped>\n",
       "    .dataframe tbody tr th:only-of-type {\n",
       "        vertical-align: middle;\n",
       "    }\n",
       "\n",
       "    .dataframe tbody tr th {\n",
       "        vertical-align: top;\n",
       "    }\n",
       "\n",
       "    .dataframe thead th {\n",
       "        text-align: right;\n",
       "    }\n",
       "</style>\n",
       "<table border=\"1\" class=\"dataframe\">\n",
       "  <thead>\n",
       "    <tr style=\"text-align: right;\">\n",
       "      <th></th>\n",
       "      <th>career_AST</th>\n",
       "      <th>career_FG%</th>\n",
       "      <th>career_FG3%</th>\n",
       "      <th>career_FT%</th>\n",
       "      <th>career_G</th>\n",
       "      <th>career_PER</th>\n",
       "      <th>career_PTS</th>\n",
       "      <th>career_TRB</th>\n",
       "      <th>career_WS</th>\n",
       "      <th>career_eFG%</th>\n",
       "      <th>name</th>\n",
       "      <th>player_id</th>\n",
       "      <th>salary</th>\n",
       "      <th>season_end</th>\n",
       "      <th>num_ht</th>\n",
       "      <th>num_wt</th>\n",
       "    </tr>\n",
       "  </thead>\n",
       "  <tbody>\n",
       "    <tr>\n",
       "      <th>0</th>\n",
       "      <td>0.3</td>\n",
       "      <td>50.2</td>\n",
       "      <td>0.0</td>\n",
       "      <td>70.1</td>\n",
       "      <td>256</td>\n",
       "      <td>13.0</td>\n",
       "      <td>5.7</td>\n",
       "      <td>3.3</td>\n",
       "      <td>4.8</td>\n",
       "      <td>50.2</td>\n",
       "      <td>Alaa Abdelnaby</td>\n",
       "      <td>abdelal01</td>\n",
       "      <td>5.688000e+05</td>\n",
       "      <td>1993.000000</td>\n",
       "      <td>82</td>\n",
       "      <td>240</td>\n",
       "    </tr>\n",
       "    <tr>\n",
       "      <th>1</th>\n",
       "      <td>3.6</td>\n",
       "      <td>55.9</td>\n",
       "      <td>5.6</td>\n",
       "      <td>72.1</td>\n",
       "      <td>1560</td>\n",
       "      <td>24.6</td>\n",
       "      <td>24.6</td>\n",
       "      <td>11.2</td>\n",
       "      <td>273.4</td>\n",
       "      <td>55.9</td>\n",
       "      <td>Kareem Abdul-Jabbar</td>\n",
       "      <td>abdulka01</td>\n",
       "      <td>2.140000e+06</td>\n",
       "      <td>1987.000000</td>\n",
       "      <td>86</td>\n",
       "      <td>225</td>\n",
       "    </tr>\n",
       "    <tr>\n",
       "      <th>2</th>\n",
       "      <td>3.5</td>\n",
       "      <td>44.2</td>\n",
       "      <td>35.4</td>\n",
       "      <td>90.5</td>\n",
       "      <td>586</td>\n",
       "      <td>15.4</td>\n",
       "      <td>14.6</td>\n",
       "      <td>1.9</td>\n",
       "      <td>25.2</td>\n",
       "      <td>47.2</td>\n",
       "      <td>Mahmoud Abdul-Rauf</td>\n",
       "      <td>abdulma02</td>\n",
       "      <td>2.205500e+06</td>\n",
       "      <td>1995.222222</td>\n",
       "      <td>73</td>\n",
       "      <td>162</td>\n",
       "    </tr>\n",
       "    <tr>\n",
       "      <th>3</th>\n",
       "      <td>1.1</td>\n",
       "      <td>41.7</td>\n",
       "      <td>23.7</td>\n",
       "      <td>70.3</td>\n",
       "      <td>236</td>\n",
       "      <td>11.4</td>\n",
       "      <td>7.8</td>\n",
       "      <td>3.3</td>\n",
       "      <td>3.5</td>\n",
       "      <td>42.2</td>\n",
       "      <td>Tariq Abdul-Wahad</td>\n",
       "      <td>abdulta01</td>\n",
       "      <td>3.798280e+06</td>\n",
       "      <td>2002.500000</td>\n",
       "      <td>78</td>\n",
       "      <td>223</td>\n",
       "    </tr>\n",
       "    <tr>\n",
       "      <th>4</th>\n",
       "      <td>2.5</td>\n",
       "      <td>47.2</td>\n",
       "      <td>29.7</td>\n",
       "      <td>81.0</td>\n",
       "      <td>830</td>\n",
       "      <td>19.0</td>\n",
       "      <td>18.1</td>\n",
       "      <td>7.5</td>\n",
       "      <td>71.2</td>\n",
       "      <td>47.9</td>\n",
       "      <td>Shareef Abdur-Rahim</td>\n",
       "      <td>abdursh01</td>\n",
       "      <td>8.715091e+06</td>\n",
       "      <td>2003.909091</td>\n",
       "      <td>81</td>\n",
       "      <td>225</td>\n",
       "    </tr>\n",
       "  </tbody>\n",
       "</table>\n",
       "</div>"
      ],
      "text/plain": [
       "   career_AST  career_FG%  career_FG3%  career_FT%  career_G  career_PER  \\\n",
       "0         0.3        50.2          0.0        70.1       256        13.0   \n",
       "1         3.6        55.9          5.6        72.1      1560        24.6   \n",
       "2         3.5        44.2         35.4        90.5       586        15.4   \n",
       "3         1.1        41.7         23.7        70.3       236        11.4   \n",
       "4         2.5        47.2         29.7        81.0       830        19.0   \n",
       "\n",
       "   career_PTS  career_TRB  career_WS  career_eFG%                 name  \\\n",
       "0         5.7         3.3        4.8         50.2       Alaa Abdelnaby   \n",
       "1        24.6        11.2      273.4         55.9  Kareem Abdul-Jabbar   \n",
       "2        14.6         1.9       25.2         47.2   Mahmoud Abdul-Rauf   \n",
       "3         7.8         3.3        3.5         42.2    Tariq Abdul-Wahad   \n",
       "4        18.1         7.5       71.2         47.9  Shareef Abdur-Rahim   \n",
       "\n",
       "   player_id        salary   season_end  num_ht  num_wt  \n",
       "0  abdelal01  5.688000e+05  1993.000000      82     240  \n",
       "1  abdulka01  2.140000e+06  1987.000000      86     225  \n",
       "2  abdulma02  2.205500e+06  1995.222222      73     162  \n",
       "3  abdulta01  3.798280e+06  2002.500000      78     223  \n",
       "4  abdursh01  8.715091e+06  2003.909091      81     225  "
      ]
     },
     "execution_count": 153,
     "metadata": {},
     "output_type": "execute_result"
    }
   ],
   "source": [
    "df.reset_index(inplace=True,drop=True)\n",
    "df.head()"
   ]
  },
  {
   "cell_type": "code",
   "execution_count": 154,
   "metadata": {},
   "outputs": [
    {
     "data": {
      "text/plain": [
       "(2339, 16)"
      ]
     },
     "execution_count": 154,
     "metadata": {},
     "output_type": "execute_result"
    }
   ],
   "source": [
    "df.shape"
   ]
  },
  {
   "cell_type": "markdown",
   "metadata": {},
   "source": [
    "Ready to go! Let's separate out numerical and non-numerical colummns so we can do PCA."
   ]
  },
  {
   "cell_type": "code",
   "execution_count": 155,
   "metadata": {},
   "outputs": [],
   "source": [
    "X=df.drop(['name','player_id','salary'],axis=1)\n",
    "names=df[['player_id','name']]\n",
    "y=df['salary']"
   ]
  },
  {
   "cell_type": "code",
   "execution_count": 156,
   "metadata": {},
   "outputs": [
    {
     "data": {
      "text/plain": [
       "(2339, 13)"
      ]
     },
     "execution_count": 156,
     "metadata": {},
     "output_type": "execute_result"
    }
   ],
   "source": [
    "X.shape"
   ]
  },
  {
   "cell_type": "markdown",
   "metadata": {},
   "source": [
    "The features have very different scales."
   ]
  },
  {
   "cell_type": "code",
   "execution_count": 157,
   "metadata": {},
   "outputs": [
    {
     "data": {
      "text/html": [
       "<div>\n",
       "<style scoped>\n",
       "    .dataframe tbody tr th:only-of-type {\n",
       "        vertical-align: middle;\n",
       "    }\n",
       "\n",
       "    .dataframe tbody tr th {\n",
       "        vertical-align: top;\n",
       "    }\n",
       "\n",
       "    .dataframe thead th {\n",
       "        text-align: right;\n",
       "    }\n",
       "</style>\n",
       "<table border=\"1\" class=\"dataframe\">\n",
       "  <thead>\n",
       "    <tr style=\"text-align: right;\">\n",
       "      <th></th>\n",
       "      <th>career_G</th>\n",
       "      <th>career_PTS</th>\n",
       "      <th>career_FG%</th>\n",
       "      <th>career_TRB</th>\n",
       "    </tr>\n",
       "  </thead>\n",
       "  <tbody>\n",
       "    <tr>\n",
       "      <th>0</th>\n",
       "      <td>256</td>\n",
       "      <td>5.7</td>\n",
       "      <td>50.2</td>\n",
       "      <td>3.3</td>\n",
       "    </tr>\n",
       "    <tr>\n",
       "      <th>1</th>\n",
       "      <td>1560</td>\n",
       "      <td>24.6</td>\n",
       "      <td>55.9</td>\n",
       "      <td>11.2</td>\n",
       "    </tr>\n",
       "    <tr>\n",
       "      <th>2</th>\n",
       "      <td>586</td>\n",
       "      <td>14.6</td>\n",
       "      <td>44.2</td>\n",
       "      <td>1.9</td>\n",
       "    </tr>\n",
       "    <tr>\n",
       "      <th>3</th>\n",
       "      <td>236</td>\n",
       "      <td>7.8</td>\n",
       "      <td>41.7</td>\n",
       "      <td>3.3</td>\n",
       "    </tr>\n",
       "    <tr>\n",
       "      <th>4</th>\n",
       "      <td>830</td>\n",
       "      <td>18.1</td>\n",
       "      <td>47.2</td>\n",
       "      <td>7.5</td>\n",
       "    </tr>\n",
       "  </tbody>\n",
       "</table>\n",
       "</div>"
      ],
      "text/plain": [
       "   career_G  career_PTS  career_FG%  career_TRB\n",
       "0       256         5.7        50.2         3.3\n",
       "1      1560        24.6        55.9        11.2\n",
       "2       586        14.6        44.2         1.9\n",
       "3       236         7.8        41.7         3.3\n",
       "4       830        18.1        47.2         7.5"
      ]
     },
     "execution_count": 157,
     "metadata": {},
     "output_type": "execute_result"
    }
   ],
   "source": [
    "df[df['career_G']>100][['career_G','career_PTS','career_FG%','career_TRB']].head()"
   ]
  },
  {
   "cell_type": "code",
   "execution_count": 158,
   "metadata": {},
   "outputs": [
    {
     "data": {
      "text/plain": [
       "career_AST     1.591407e+00\n",
       "career_FG%     4.391347e+01\n",
       "career_FG3%    2.350073e+01\n",
       "career_FT%     7.145237e+01\n",
       "career_G       3.783198e+02\n",
       "career_PER     1.227708e+01\n",
       "career_PTS     7.168320e+00\n",
       "career_TRB     3.157845e+00\n",
       "career_WS      1.968935e+01\n",
       "career_eFG%    4.679637e+01\n",
       "salary         2.015496e+06\n",
       "season_end     2.003440e+03\n",
       "num_ht         7.899701e+01\n",
       "num_wt         2.171518e+02\n",
       "dtype: float64"
      ]
     },
     "execution_count": 158,
     "metadata": {},
     "output_type": "execute_result"
    }
   ],
   "source": [
    "df.mean()"
   ]
  },
  {
   "cell_type": "code",
   "execution_count": 159,
   "metadata": {},
   "outputs": [],
   "source": [
    "from sklearn.model_selection import train_test_split\n",
    "from sklearn.preprocessing import StandardScaler\n",
    "from sklearn.linear_model import LinearRegression"
   ]
  },
  {
   "cell_type": "markdown",
   "metadata": {},
   "source": [
    "Initiate the scaler which will mean center (subtract off the column mean from each feature value) and standardize (divide by column st dev). "
   ]
  },
  {
   "cell_type": "markdown",
   "metadata": {},
   "source": [
    "Then, transform the data into the new, scaled values. Now, each value can be interpreted as \"number of standard deviations from the mean\".  "
   ]
  },
  {
   "cell_type": "code",
   "execution_count": 160,
   "metadata": {},
   "outputs": [],
   "source": [
    "scaler = StandardScaler().fit(X)\n",
    "X_scaled=scaler.transform(X)"
   ]
  },
  {
   "cell_type": "markdown",
   "metadata": {},
   "source": [
    "Now, X_scaled is a numpy array. Good for ```sklearn```, less good for human reading. Here's the first row..."
   ]
  },
  {
   "cell_type": "code",
   "execution_count": 161,
   "metadata": {},
   "outputs": [
    {
     "data": {
      "text/plain": [
       "array([-0.85723617,  0.88168074, -1.5308173 , -0.1092433 , -0.35926154,\n",
       "        0.16103399, -0.30086392,  0.06661973, -0.48643257,  0.489595  ,\n",
       "       -1.03870696,  0.82224114,  0.82790897])"
      ]
     },
     "execution_count": 161,
     "metadata": {},
     "output_type": "execute_result"
    }
   ],
   "source": [
    "X_scaled[0]"
   ]
  },
  {
   "cell_type": "code",
   "execution_count": 162,
   "metadata": {},
   "outputs": [
    {
     "name": "stdout",
     "output_type": "stream",
     "text": [
      "(2339, 13) (2339, 13)\n"
     ]
    }
   ],
   "source": [
    "print(X.shape,X_scaled.shape)"
   ]
  },
  {
   "cell_type": "code",
   "execution_count": 163,
   "metadata": {},
   "outputs": [
    {
     "data": {
      "text/plain": [
       "Index(['career_AST', 'career_FG%', 'career_FG3%', 'career_FT%', 'career_G',\n",
       "       'career_PER', 'career_PTS', 'career_TRB', 'career_WS', 'career_eFG%',\n",
       "       'season_end', 'num_ht', 'num_wt'],\n",
       "      dtype='object')"
      ]
     },
     "execution_count": 163,
     "metadata": {},
     "output_type": "execute_result"
    }
   ],
   "source": [
    "X.columns"
   ]
  },
  {
   "cell_type": "markdown",
   "metadata": {},
   "source": [
    "Now, the plan is to first do PCA, then run regression (simple OLS) using the transformed data (coordinates in terms of the PCs) as features. Question: How many PCs should we use? How does the model perform on new data?"
   ]
  },
  {
   "cell_type": "markdown",
   "metadata": {},
   "source": [
    "These are familiar questions. We can cross validate to answer the first, but ultimately need a test set to see how our final model does on new data."
   ]
  },
  {
   "cell_type": "code",
   "execution_count": 164,
   "metadata": {},
   "outputs": [],
   "source": [
    "X_train, X_test, y_train, y_test = train_test_split(X_scaled,y,test_size=0.3, random_state=5)"
   ]
  },
  {
   "cell_type": "code",
   "execution_count": 165,
   "metadata": {},
   "outputs": [],
   "source": [
    "from sklearn.decomposition import PCA"
   ]
  },
  {
   "cell_type": "code",
   "execution_count": 166,
   "metadata": {},
   "outputs": [
    {
     "data": {
      "text/plain": [
       "(1637, 13)"
      ]
     },
     "execution_count": 166,
     "metadata": {},
     "output_type": "execute_result"
    }
   ],
   "source": [
    "X_train.shape"
   ]
  },
  {
   "cell_type": "markdown",
   "metadata": {},
   "source": [
    "There are 13 features so we'll use < 13 principal components."
   ]
  },
  {
   "cell_type": "markdown",
   "metadata": {},
   "source": [
    "First find the principal components. This is unsupervised -- just looks at the features and finds the directions that explain the most vaiance (subject to orthogonality). "
   ]
  },
  {
   "cell_type": "code",
   "execution_count": 167,
   "metadata": {},
   "outputs": [],
   "source": [
    "pca = PCA(13).fit(X_train)"
   ]
  },
  {
   "cell_type": "markdown",
   "metadata": {},
   "source": [
    "Next, transform the data -- that means project the data onto the principal components, and get new cooridinates (in terms of the PCs)."
   ]
  },
  {
   "cell_type": "code",
   "execution_count": 168,
   "metadata": {},
   "outputs": [],
   "source": [
    "pca_tr = pca.transform(X_train)"
   ]
  },
  {
   "cell_type": "markdown",
   "metadata": {},
   "source": [
    "Note: If you didn't care about the actual principal components, and wanted to go directly to the transformed (projected) data, you can use: ```PCA(13).fit_transform(X_train)```"
   ]
  },
  {
   "cell_type": "markdown",
   "metadata": {},
   "source": [
    "TO see how much of the variance in teh original data we have in the PCs:"
   ]
  },
  {
   "cell_type": "code",
   "execution_count": 169,
   "metadata": {},
   "outputs": [
    {
     "data": {
      "text/plain": [
       "array([0.35891947, 0.24138057, 0.10788447, 0.08705219, 0.05511659,\n",
       "       0.04654338, 0.02932237, 0.02172946, 0.01445815, 0.01363934,\n",
       "       0.01186346, 0.00876702, 0.00332353])"
      ]
     },
     "execution_count": 169,
     "metadata": {},
     "output_type": "execute_result"
    }
   ],
   "source": [
    "pca.explained_variance_ratio_"
   ]
  },
  {
   "cell_type": "markdown",
   "metadata": {},
   "source": [
    "so for the first 3:"
   ]
  },
  {
   "cell_type": "code",
   "execution_count": 170,
   "metadata": {},
   "outputs": [
    {
     "data": {
      "text/plain": [
       "0.7081845062562899"
      ]
     },
     "execution_count": 170,
     "metadata": {},
     "output_type": "execute_result"
    }
   ],
   "source": [
    "pca.explained_variance_ratio_[0:3].sum()"
   ]
  },
  {
   "cell_type": "markdown",
   "metadata": {},
   "source": [
    "The projected training data is here:"
   ]
  },
  {
   "cell_type": "code",
   "execution_count": 171,
   "metadata": {},
   "outputs": [
    {
     "data": {
      "text/plain": [
       "(1637, 13)"
      ]
     },
     "execution_count": 171,
     "metadata": {},
     "output_type": "execute_result"
    }
   ],
   "source": [
    "pca_tr.shape"
   ]
  },
  {
   "cell_type": "code",
   "execution_count": 172,
   "metadata": {},
   "outputs": [],
   "source": [
    "from sklearn.model_selection import cross_validate"
   ]
  },
  {
   "cell_type": "markdown",
   "metadata": {},
   "source": [
    "Cross validate the number of PCs in a linear regression model. I'm using $r^2$ on the test-fold as the scoring metric. "
   ]
  },
  {
   "cell_type": "code",
   "execution_count": 173,
   "metadata": {},
   "outputs": [],
   "source": [
    "cvres=[]\n",
    "num_pcs=[1,2,3,4,5,6,7,8,9,10,11,12,13,14]\n",
    "for a in num_pcs:\n",
    "    reg = LinearRegression()\n",
    "    cvreg = cross_validate(reg, pca_tr[:,0:a], y_train, cv=5, scoring='r2')\n",
    "    cvres.append(cvreg['test_score'].mean())"
   ]
  },
  {
   "cell_type": "code",
   "execution_count": 174,
   "metadata": {},
   "outputs": [
    {
     "data": {
      "text/plain": [
       "[0.37761895153891356,\n",
       " 0.37788161689771055,\n",
       " 0.38067009917037675,\n",
       " 0.5819843531527811,\n",
       " 0.6291571093278798,\n",
       " 0.6330725324599682,\n",
       " 0.6316018940600228,\n",
       " 0.6322299573007808,\n",
       " 0.635961402308906,\n",
       " 0.6366623350004404,\n",
       " 0.6396634498673729,\n",
       " 0.6378627858370615,\n",
       " 0.637713088114187,\n",
       " 0.637713088114187]"
      ]
     },
     "execution_count": 174,
     "metadata": {},
     "output_type": "execute_result"
    }
   ],
   "source": [
    "cvres"
   ]
  },
  {
   "cell_type": "code",
   "execution_count": 175,
   "metadata": {},
   "outputs": [
    {
     "data": {
      "text/plain": [
       "10"
      ]
     },
     "execution_count": 175,
     "metadata": {},
     "output_type": "execute_result"
    }
   ],
   "source": [
    "np.argmax(cvres)"
   ]
  },
  {
   "cell_type": "code",
   "execution_count": 176,
   "metadata": {},
   "outputs": [
    {
     "data": {
      "text/plain": [
       "[<matplotlib.lines.Line2D at 0x7fb54272a640>]"
      ]
     },
     "execution_count": 176,
     "metadata": {},
     "output_type": "execute_result"
    },
    {
     "data": {
      "image/png": "[encoded data removed]",
      "text/plain": [
       "<Figure size 432x288 with 1 Axes>"
      ]
     },
     "metadata": {
      "needs_background": "light"
     },
     "output_type": "display_data"
    }
   ],
   "source": [
    "plt.plot(range(1,15),cvres)"
   ]
  },
  {
   "cell_type": "markdown",
   "metadata": {},
   "source": [
    "From this, while the $r^2$ technically peaks with 11 principal components, it definitely seems like there's very little gained after 5 or 6 principal components. "
   ]
  },
  {
   "cell_type": "markdown",
   "metadata": {},
   "source": [
    "So, one could build a regression model on the full training set using the first 5 or 6 PCs. We might want to explore those PCs and see if we learn anything. "
   ]
  },
  {
   "cell_type": "code",
   "execution_count": 177,
   "metadata": {},
   "outputs": [
    {
     "name": "stdout",
     "output_type": "stream",
     "text": [
      "career_AST : 0.27853169534582756\n",
      "career_FG% : 0.27919284870435457\n",
      "career_FG3% : 0.11503059022781437\n",
      "career_FT% : 0.15680734577084332\n",
      "career_G : 0.3875339714641801\n",
      "career_PER : 0.38149174289602633\n",
      "career_PTS : 0.40560735094102485\n",
      "career_TRB : 0.33690579730294384\n",
      "career_WS : 0.3823367248860594\n",
      "career_eFG% : 0.2929486593191292\n",
      "season_end : -0.029054792990176177\n",
      "num_ht : 0.0004745362880638204\n",
      "num_wt : -0.008050145342217818\n"
     ]
    }
   ],
   "source": [
    "for col,val in zip(X.columns,pca.components_[0]):\n",
    "    print(col,\":\",val)"
   ]
  },
  {
   "cell_type": "code",
   "execution_count": 178,
   "metadata": {},
   "outputs": [
    {
     "name": "stdout",
     "output_type": "stream",
     "text": [
      "career_AST : 0.32772920648345477\n",
      "career_FG% : -0.28938440160339896\n",
      "career_FG3% : 0.3312933994417727\n",
      "career_FT% : 0.2980346298632464\n",
      "career_G : 0.030992980415866914\n",
      "career_PER : -0.04704053748318521\n",
      "career_PTS : 0.08175996142584496\n",
      "career_TRB : -0.25332161073223225\n",
      "career_WS : 0.015230264996972859\n",
      "career_eFG% : -0.16154107422598052\n",
      "season_end : -0.018244765447846957\n",
      "num_ht : -0.5126101875227531\n",
      "num_wt : -0.4968005797143811\n"
     ]
    }
   ],
   "source": [
    "for col,val in zip(X.columns,pca.components_[1]):\n",
    "    print(col,\":\",val)"
   ]
  },
  {
   "cell_type": "markdown",
   "metadata": {},
   "source": [
    "PCR helps address overfitting by reducing the number of features (building a less flexible model) and multicolinearity (the principal components are orthogonal so uncorrelated). In this way it is a competitor to Ridge or Lasso regression (similar aims). The downside is interpretability of the model. "
   ]
  },
  {
   "cell_type": "code",
   "execution_count": null,
   "metadata": {},
   "outputs": [],
   "source": []
  }
 ],
 "metadata": {
  "kernelspec": {
   "display_name": "Python 3",
   "language": "python",
   "name": "python3"
  },
  "language_info": {
   "codemirror_mode": {
    "name": "ipython",
    "version": 3
   },
   "file_extension": ".py",
   "mimetype": "text/x-python",
   "name": "python",
   "nbconvert_exporter": "python",
   "pygments_lexer": "ipython3",
   "version": "3.8.5"
  }
 },
 "nbformat": 4,
 "nbformat_minor": 4
}
